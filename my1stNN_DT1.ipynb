{
 "cells": [
  {
   "cell_type": "markdown",
   "metadata": {},
   "source": [
    "# Import Data"
   ]
  },
  {
   "cell_type": "code",
   "execution_count": 1,
   "metadata": {},
   "outputs": [
    {
     "name": "stderr",
     "output_type": "stream",
     "text": [
      "Using TensorFlow backend.\n"
     ]
    },
    {
     "name": "stdout",
     "output_type": "stream",
     "text": [
      "(50000, 28, 28) (50000,)\n"
     ]
    }
   ],
   "source": [
    "from preprocessed_mnist import load_dataset\n",
    "X_train, y_train, X_val, y_val, X_test, y_test = load_dataset()\n",
    "print(X_train.shape, y_train.shape)\n",
    "import matplotlib.pyplot as plt\n",
    "%matplotlib inline\n"
   ]
  },
  {
   "cell_type": "code",
   "execution_count": 2,
   "metadata": {},
   "outputs": [
    {
     "data": {
      "image/png": "[encoded data removed]",
      "text/plain": [
       "<matplotlib.figure.Figure at 0x7fc806a317f0>"
      ]
     },
     "metadata": {},
     "output_type": "display_data"
    }
   ],
   "source": [
    "plt.imshow(X_train[431], cmap=\"Greys\");"
   ]
  },
  {
   "cell_type": "code",
   "execution_count": 3,
   "metadata": {
    "collapsed": true
   },
   "outputs": [],
   "source": [
    "import tensorflow as tf\n",
    "#s = tf.InteractiveSession()"
   ]
  },
  {
   "cell_type": "code",
   "execution_count": 4,
   "metadata": {},
   "outputs": [
    {
     "data": {
      "text/plain": [
       "9"
      ]
     },
     "execution_count": 4,
     "metadata": {},
     "output_type": "execute_result"
    }
   ],
   "source": [
    "max(y_train)"
   ]
  },
  {
   "cell_type": "code",
   "execution_count": 5,
   "metadata": {
    "collapsed": true
   },
   "outputs": [],
   "source": [
    "import numpy as np"
   ]
  },
  {
   "cell_type": "markdown",
   "metadata": {},
   "source": [
    "# Reshape data"
   ]
  },
  {
   "cell_type": "code",
   "execution_count": 6,
   "metadata": {},
   "outputs": [
    {
     "name": "stdout",
     "output_type": "stream",
     "text": [
      "number of training examples = 50000\n",
      "number of test examples = 10000\n",
      "X_train shape: (784, 50000)\n",
      "Y_train shape: (10, 50000)\n",
      "X_test shape: (784, 10000)\n",
      "Y_test shape: (10, 10000)\n"
     ]
    }
   ],
   "source": [
    "X_train_orig = X_train\n",
    "Y_train_orig = y_train\n",
    "X_test_orig = X_test\n",
    "Y_test_orig = y_test\n",
    "\n",
    "# Flatten the training and test images\n",
    "X_train_flatten = X_train_orig.reshape(X_train_orig.shape[0], -1).T\n",
    "X_test_flatten = X_test_orig.reshape(X_test_orig.shape[0], -1).T\n",
    "# Normalize image vectors\n",
    "X_train = X_train_flatten\n",
    "X_test = X_test_flatten\n",
    "# Convert training and test labels to one hot matrices\n",
    "with tf.Session() as s:\n",
    "    Y_train = s.run(tf.one_hot(Y_train_orig, depth=10,axis=0)) \n",
    "    Y_test = s.run(tf.one_hot(Y_test_orig, depth=10,axis=0))\n",
    "\n",
    "print (\"number of training examples = \" + str(X_train.shape[1]))\n",
    "print (\"number of test examples = \" + str(X_test.shape[1]))\n",
    "print (\"X_train shape: \" + str(X_train.shape))\n",
    "print (\"Y_train shape: \" + str(Y_train.shape))\n",
    "print (\"X_test shape: \" + str(X_test.shape))\n",
    "print (\"Y_test shape: \" + str(Y_test.shape))"
   ]
  },
  {
   "cell_type": "markdown",
   "metadata": {},
   "source": [
    "# Create weight and bias variables"
   ]
  },
  {
   "cell_type": "code",
   "execution_count": 7,
   "metadata": {},
   "outputs": [],
   "source": [
    "\n",
    "tf.set_random_seed(1)     \n",
    "nW1 = 48\n",
    "nW2 = 12+12\n",
    "W1 = tf.get_variable(\"W1\", [nW1,784], initializer = tf.contrib.layers.xavier_initializer(seed = 1))\n",
    "#W1 = tf.get_variable(\"W1\", [nW1,784], initializer = tf.zeros_initializer())\n",
    "b1 = tf.get_variable(\"b1\", [nW1,1], initializer = tf.zeros_initializer())\n",
    "W2 = tf.get_variable(\"W2\", [nW2,nW1], initializer = tf.contrib.layers.xavier_initializer(seed = 1))\n",
    "#W2 = tf.get_variable(\"W2\", [nW2,nW1], initializer = tf.zeros_initializer())\n",
    "b2 = tf.get_variable(\"b2\", [nW2,1], initializer = tf.zeros_initializer())\n",
    "W3 = tf.get_variable(\"W3\", [10,nW2], initializer = tf.contrib.layers.xavier_initializer(seed = 1))\n",
    "#W3 = tf.get_variable(\"W3\", [10,nW2], initializer = tf.zeros_initializer())\n",
    "b3 = tf.get_variable(\"b3\", [10,1], initializer = tf.zeros_initializer())\n",
    "   "
   ]
  },
  {
   "cell_type": "code",
   "execution_count": 8,
   "metadata": {
    "collapsed": true
   },
   "outputs": [],
   "source": [
    "parameters = {\"W1\": W1,\n",
    "              \"b1\": b1,\n",
    "              \"W2\": W2,\n",
    "              \"b2\": b2,\n",
    "              \"W3\": W3,\n",
    "              \"b3\": b3}\n"
   ]
  },
  {
   "cell_type": "markdown",
   "metadata": {},
   "source": [
    "# Create X, Y, and layers"
   ]
  },
  {
   "cell_type": "code",
   "execution_count": 9,
   "metadata": {
    "collapsed": true
   },
   "outputs": [],
   "source": [
    "X = tf.placeholder(dtype=tf.float32, shape=(784,None),name = \"X\")\n",
    "Y = tf.placeholder(dtype=tf.float32, shape=(10,None),name = \"Y\")\n"
   ]
  },
  {
   "cell_type": "code",
   "execution_count": 10,
   "metadata": {
    "collapsed": true
   },
   "outputs": [],
   "source": [
    "Z1 = tf.matmul(W1, X) + b1 \n",
    "A1 = tf.nn.relu(Z1)         \n",
    "Z2 = tf.matmul(W2, A1) + b2 \n",
    "A2 = tf.nn.relu(Z2)         \n",
    "Z3 = (tf.matmul(W3, A2) + b3)\n",
    "A3 = tf.nn.sigmoid(Z3)    "
   ]
  },
  {
   "cell_type": "markdown",
   "metadata": {},
   "source": [
    "# Create Cost Function"
   ]
  },
  {
   "cell_type": "code",
   "execution_count": 11,
   "metadata": {
    "collapsed": true
   },
   "outputs": [],
   "source": [
    "logits = tf.transpose(A3)\n",
    "labels = tf.transpose(Y)\n",
    "    \n",
    "cost = tf.reduce_mean(tf.nn.softmax_cross_entropy_with_logits(logits=logits, labels=labels))\n",
    "    "
   ]
  },
  {
   "cell_type": "code",
   "execution_count": 12,
   "metadata": {},
   "outputs": [
    {
     "name": "stdout",
     "output_type": "stream",
     "text": [
      "cost = Tensor(\"Mean:0\", shape=(), dtype=float32)\n"
     ]
    }
   ],
   "source": [
    "print(\"cost = \" + str(cost))"
   ]
  },
  {
   "cell_type": "markdown",
   "metadata": {},
   "source": [
    "# Define optimizer"
   ]
  },
  {
   "cell_type": "code",
   "execution_count": 13,
   "metadata": {
    "collapsed": true
   },
   "outputs": [],
   "source": [
    "learning_rate = init = tf.placeholder(tf.float32, shape=(), name=\"learning_rate\") #0.0006\n",
    "optimizer = tf.contrib.opt.NadamOptimizer(learning_rate = learning_rate).minimize(cost)"
   ]
  },
  {
   "cell_type": "markdown",
   "metadata": {},
   "source": [
    "# Run Optimization and evaluate performance"
   ]
  },
  {
   "cell_type": "code",
   "execution_count": 14,
   "metadata": {
    "collapsed": true
   },
   "outputs": [],
   "source": [
    "init = tf.global_variables_initializer()"
   ]
  },
  {
   "cell_type": "code",
   "execution_count": 15,
   "metadata": {
    "collapsed": true
   },
   "outputs": [],
   "source": [
    "import timeit"
   ]
  },
  {
   "cell_type": "code",
   "execution_count": 16,
   "metadata": {},
   "outputs": [
    {
     "name": "stdout",
     "output_type": "stream",
     "text": [
      "number of minibatches: 1562\n",
      "Train cost after epoch 0: 1.591276\n",
      "Test cost after epoch 0: 1.521681\n",
      "Train cost after epoch 1: 1.514956\n",
      "Test cost after epoch 1: 1.507028\n",
      "Train cost after epoch 2: 1.502586\n",
      "Test cost after epoch 2: 1.500022\n",
      "Train cost after epoch 3: 1.495589\n",
      "Test cost after epoch 3: 1.495200\n",
      "Train cost after epoch 4: 1.491137\n",
      "Test cost after epoch 4: 1.491451\n",
      "Train cost after epoch 5: 1.487103\n",
      "Test cost after epoch 5: 1.492174\n",
      "Train cost after epoch 6: 1.484932\n",
      "Test cost after epoch 6: 1.489387\n",
      "Train cost after epoch 7: 1.482826\n",
      "Test cost after epoch 7: 1.488005\n",
      "Train cost after epoch 8: 1.481057\n",
      "Test cost after epoch 8: 1.487745\n",
      "Train cost after epoch 9: 1.479910\n",
      "Test cost after epoch 9: 1.486099\n",
      "Train cost after epoch 10: 1.478291\n",
      "Test cost after epoch 10: 1.486127\n",
      "Train cost after epoch 11: 1.477619\n",
      "Test cost after epoch 11: 1.485685\n",
      "Train cost after epoch 12: 1.476770\n",
      "Test cost after epoch 12: 1.484320\n",
      "Train cost after epoch 13: 1.476179\n",
      "Test cost after epoch 13: 1.483993\n",
      "Train cost after epoch 14: 1.475530\n",
      "Test cost after epoch 14: 1.484071\n",
      "Train cost after epoch 15: 1.475338\n",
      "Test cost after epoch 15: 1.484601\n",
      "Train cost after epoch 16: 1.474427\n",
      "Test cost after epoch 16: 1.485210\n",
      "Train cost after epoch 17: 1.473947\n",
      "Test cost after epoch 17: 1.483532\n",
      "Train cost after epoch 18: 1.473625\n",
      "Test cost after epoch 18: 1.487039\n",
      "Train cost after epoch 19: 1.473555\n",
      "Test cost after epoch 19: 1.484951\n",
      "Train cost after epoch 20: 1.472740\n",
      "Test cost after epoch 20: 1.484481\n",
      "Train cost after epoch 21: 1.472604\n",
      "Test cost after epoch 21: 1.484189\n",
      "Train cost after epoch 22: 1.472709\n",
      "Test cost after epoch 22: 1.485946\n",
      "Train cost after epoch 23: 1.472478\n",
      "Test cost after epoch 23: 1.482033\n",
      "Train cost after epoch 24: 1.471707\n",
      "Test cost after epoch 24: 1.484584\n",
      "Train cost after epoch 25: 1.471924\n",
      "Test cost after epoch 25: 1.483992\n",
      "Train cost after epoch 26: 1.471574\n",
      "Test cost after epoch 26: 1.484216\n",
      "Train cost after epoch 27: 1.471644\n",
      "Test cost after epoch 27: 1.484682\n",
      "Train cost after epoch 28: 1.471229\n",
      "Test cost after epoch 28: 1.482873\n",
      "Train cost after epoch 29: 1.471003\n",
      "Test cost after epoch 29: 1.484030\n",
      "Train cost after epoch 30: 1.470799\n",
      "Test cost after epoch 30: 1.482697\n",
      "Train cost after epoch 31: 1.470562\n",
      "Test cost after epoch 31: 1.484163\n",
      "Train cost after epoch 32: 1.470780\n",
      "Test cost after epoch 32: 1.483925\n",
      "Train cost after epoch 33: 1.470203\n",
      "Test cost after epoch 33: 1.483840\n",
      "Train cost after epoch 34: 1.470953\n",
      "Test cost after epoch 34: 1.483510\n",
      "Train cost after epoch 35: 1.470118\n",
      "Test cost after epoch 35: 1.482880\n",
      "Train cost after epoch 36: 1.470087\n",
      "Test cost after epoch 36: 1.485764\n",
      "Train cost after epoch 37: 1.469829\n",
      "Test cost after epoch 37: 1.482804\n",
      "Train cost after epoch 38: 1.469949\n",
      "Test cost after epoch 38: 1.484269\n",
      "Train cost after epoch 39: 1.469880\n",
      "Test cost after epoch 39: 1.483112\n",
      "Train cost after epoch 40: 1.469709\n",
      "Test cost after epoch 40: 1.483500\n",
      "Train cost after epoch 41: 1.469448\n",
      "Test cost after epoch 41: 1.483443\n",
      "Train cost after epoch 42: 1.469745\n",
      "Test cost after epoch 42: 1.484329\n",
      "Train cost after epoch 43: 1.469392\n",
      "Test cost after epoch 43: 1.484525\n",
      "Train cost after epoch 44: 1.469406\n",
      "Test cost after epoch 44: 1.483225\n",
      "Train cost after epoch 45: 1.468906\n",
      "Test cost after epoch 45: 1.484626\n",
      "Train cost after epoch 46: 1.469538\n",
      "Test cost after epoch 46: 1.482484\n",
      "Train cost after epoch 47: 1.468987\n",
      "Test cost after epoch 47: 1.484110\n",
      "Train cost after epoch 48: 1.468908\n",
      "Test cost after epoch 48: 1.484524\n",
      "Train cost after epoch 49: 1.469216\n",
      "Test cost after epoch 49: 1.483243\n",
      "Train cost after epoch 50: 1.468979\n",
      "Test cost after epoch 50: 1.483226\n",
      "Train cost after epoch 51: 1.468955\n",
      "Test cost after epoch 51: 1.485870\n",
      "Train cost after epoch 52: 1.468900\n",
      "Test cost after epoch 52: 1.484197\n",
      "Train cost after epoch 53: 1.468346\n",
      "Test cost after epoch 53: 1.485447\n",
      "Train cost after epoch 54: 1.468568\n",
      "Test cost after epoch 54: 1.485497\n",
      "Train cost after epoch 55: 1.469099\n",
      "Test cost after epoch 55: 1.485497\n",
      "Train cost after epoch 56: 1.468737\n",
      "Test cost after epoch 56: 1.483509\n",
      "Train cost after epoch 57: 1.468051\n",
      "Test cost after epoch 57: 1.486912\n",
      "Train cost after epoch 58: 1.468497\n",
      "Test cost after epoch 58: 1.483793\n",
      "Train cost after epoch 59: 1.468116\n",
      "Test cost after epoch 59: 1.484756\n"
     ]
    },
    {
     "data": {
      "image/png": "[encoded data removed]",
      "text/plain": [
       "<matplotlib.figure.Figure at 0x7fc8040a9d68>"
      ]
     },
     "metadata": {},
     "output_type": "display_data"
    },
    {
     "data": {
      "image/png": "[encoded data removed]",
      "text/plain": [
       "<matplotlib.figure.Figure at 0x7fc7f379a668>"
      ]
     },
     "metadata": {},
     "output_type": "display_data"
    },
    {
     "name": "stdout",
     "output_type": "stream",
     "text": [
      "Parameters have been trained!\n",
      "Train Accuracy: 0.99284\n",
      "Test Accuracy: 0.9752\n",
      "Elapsed time: 3.466262 minutes\n"
     ]
    }
   ],
   "source": [
    "tic = timeit.default_timer()\n",
    "num_epochs = 60\n",
    "minibatch_size = 32\n",
    "lr0 = (12e-4)\n",
    "tf.set_random_seed(1)              \n",
    "seed = 3                           \n",
    "(n_x, m) = X_train.shape           \n",
    "n_y = Y_train.shape[0]             \n",
    "costs = []\n",
    "test_cost = []\n",
    "num_minibatches = int(m / minibatch_size)\n",
    "with tf.Session() as s:\n",
    "    s.run(init)\n",
    "    print(\"number of minibatches: %i\" % num_minibatches)\n",
    "    for epoch in range(num_epochs):\n",
    "                indices = np.arange(m)\n",
    "                seed = seed + 1\n",
    "                np.random.seed(seed)   \n",
    "                tf.set_random_seed(seed)              \n",
    "                np.random.shuffle(indices)    \n",
    "                lr = lr0 - (epoch/num_epochs)*lr0*0.9\n",
    "                #print(lr)\n",
    "\n",
    "\n",
    "                epoch_cost = 0.                       # Defines a cost related to an epoch\n",
    "\n",
    "\n",
    "                for minibatch in range(num_minibatches):\n",
    "\n",
    "                    # Select a minibatch\n",
    "                    indxx = indices[(minibatch*minibatch_size):((minibatch+1)*minibatch_size)]\n",
    "                    #print(\"Min index: %i, Max index %i\"%(min(indxx),max(indxx)))\n",
    "                    minibatch_X = X_train[:,indxx]\n",
    "                    minibatch_Y = Y_train[:,indxx]\n",
    "\n",
    "                    _ , minibatch_cost = s.run([optimizer, cost], feed_dict={X: minibatch_X, Y: minibatch_Y,learning_rate:lr0})\n",
    "\n",
    "                    epoch_cost += minibatch_cost / num_minibatches\n",
    "\n",
    "                testcost = s.run(cost, feed_dict={X: X_test, Y: Y_test})\n",
    "                test_cost.append(testcost)\n",
    "                print (\"Train cost after epoch %i: %f\" % (epoch, epoch_cost))\n",
    "                print (\"Test cost after epoch %i: %f\" % (epoch, testcost))\n",
    "\n",
    "                costs.append(epoch_cost)\n",
    "\n",
    "            # plot the cost\n",
    "    plt.plot(np.squeeze(costs))\n",
    "    plt.ylabel('training loss')\n",
    "    plt.xlabel('iterations')\n",
    "    plt.title(\"Training loss\")\n",
    "    plt.show()\n",
    "    \n",
    "    plt.plot(np.squeeze(test_cost))\n",
    "    plt.ylabel('test loss')\n",
    "    plt.xlabel('iterations')\n",
    "    plt.title(\"Testing loss\")\n",
    "    plt.show()\n",
    "\n",
    "\n",
    "\n",
    "    #parameters = s.run(parameters)\n",
    "    print (\"Parameters have been trained!\")\n",
    "\n",
    "    toc = timeit.default_timer()\n",
    "            # Calculate the correct predictions\n",
    "    correct_prediction = tf.equal(tf.argmax(A3), tf.argmax(Y))\n",
    "\n",
    "            # Calculate accuracy on the test set\n",
    "    accuracy = tf.reduce_mean(tf.cast(correct_prediction, \"float\"))\n",
    "    train_accuracy = accuracy.eval({X: X_train, Y: Y_train})\n",
    "    test_accuracy = accuracy.eval({X: X_test, Y: Y_test})\n",
    "    print (\"Train Accuracy:\", train_accuracy)\n",
    "    print (\"Test Accuracy:\", test_accuracy)\n",
    "    print(\"Elapsed time: %f minutes\" % ((toc-tic)/60))\n"
   ]
  },
  {
   "cell_type": "markdown",
   "metadata": {},
   "source": [
    "# Plot results"
   ]
  },
  {
   "cell_type": "code",
   "execution_count": 17,
   "metadata": {},
   "outputs": [
    {
     "data": {
      "image/png": "[encoded data removed]",
      "text/plain": [
       "<matplotlib.figure.Figure at 0x7fc7f862d2b0>"
      ]
     },
     "metadata": {},
     "output_type": "display_data"
    },
    {
     "data": {
      "image/png": "[encoded data removed]",
      "text/plain": [
       "<matplotlib.figure.Figure at 0x7fc8040e6cc0>"
      ]
     },
     "metadata": {},
     "output_type": "display_data"
    }
   ],
   "source": [
    "plt.plot(np.squeeze(costs))\n",
    "plt.ylabel('training loss')\n",
    "plt.xlabel('iterations')\n",
    "plt.title(\"Training loss\")\n",
    "plt.show()\n",
    "    \n",
    "plt.plot(np.squeeze(test_cost))\n",
    "plt.ylabel('test loss')\n",
    "plt.xlabel('iterations')\n",
    "plt.title(\"Testing loss\")\n",
    "plt.show()\n",
    "\n"
   ]
  },
  {
   "cell_type": "markdown",
   "metadata": {},
   "source": [
    "# Elapsed time"
   ]
  },
  {
   "cell_type": "code",
   "execution_count": 18,
   "metadata": {},
   "outputs": [
    {
     "name": "stdout",
     "output_type": "stream",
     "text": [
      "Elapsed time: 3.466262 minutes\n"
     ]
    }
   ],
   "source": [
    "print(\"Elapsed time: %f minutes\" % ((toc-tic)/60))"
   ]
  },
  {
   "cell_type": "code",
   "execution_count": 19,
   "metadata": {},
   "outputs": [
    {
     "name": "stdout",
     "output_type": "stream",
     "text": [
      "Train Accuracy: 0.99284\n",
      "Test Accuracy: 0.9752\n"
     ]
    }
   ],
   "source": [
    "print (\"Train Accuracy:\", train_accuracy)\n",
    "print (\"Test Accuracy:\", test_accuracy)\n",
    "    "
   ]
  }
 ],
 "metadata": {
  "kernelspec": {
   "display_name": "Python 3",
   "language": "python",
   "name": "python3"
  },
  "language_info": {
   "codemirror_mode": {
    "name": "ipython",
    "version": 3
   },
   "file_extension": ".py",
   "mimetype": "text/x-python",
   "name": "python",
   "nbconvert_exporter": "python",
   "pygments_lexer": "ipython3",
   "version": "3.6.0"
  }
 },
 "nbformat": 4,
 "nbformat_minor": 2
}
