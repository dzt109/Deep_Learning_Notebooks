{
 "cells": [
  {
   "cell_type": "markdown",
   "metadata": {},
   "source": [
    "# Import Data"
   ]
  },
  {
   "cell_type": "code",
   "execution_count": 1,
   "metadata": {},
   "outputs": [
    {
     "name": "stderr",
     "output_type": "stream",
     "text": [
      "Using TensorFlow backend.\n"
     ]
    },
    {
     "name": "stdout",
     "output_type": "stream",
     "text": [
      "(50000, 28, 28) (50000,)\n"
     ]
    }
   ],
   "source": [
    "from preprocessed_mnist import load_dataset\n",
    "X_train, y_train, X_val, y_val, X_test, y_test = load_dataset()\n",
    "print(X_train.shape, y_train.shape)\n",
    "import matplotlib.pyplot as plt\n",
    "%matplotlib inline\n"
   ]
  },
  {
   "cell_type": "code",
   "execution_count": 2,
   "metadata": {},
   "outputs": [
    {
     "data": {
      "image/png": "[encoded data removed]",
      "text/plain": [
       "<matplotlib.figure.Figure at 0x7fdb5e972748>"
      ]
     },
     "metadata": {},
     "output_type": "display_data"
    }
   ],
   "source": [
    "plt.imshow(X_train[431], cmap=\"Greys\");"
   ]
  },
  {
   "cell_type": "code",
   "execution_count": 3,
   "metadata": {
    "collapsed": true
   },
   "outputs": [],
   "source": [
    "import tensorflow as tf\n",
    "#s = tf.InteractiveSession()"
   ]
  },
  {
   "cell_type": "code",
   "execution_count": 4,
   "metadata": {},
   "outputs": [
    {
     "data": {
      "text/plain": [
       "9"
      ]
     },
     "execution_count": 4,
     "metadata": {},
     "output_type": "execute_result"
    }
   ],
   "source": [
    "max(y_train)"
   ]
  },
  {
   "cell_type": "code",
   "execution_count": 5,
   "metadata": {
    "collapsed": true
   },
   "outputs": [],
   "source": [
    "import numpy as np"
   ]
  },
  {
   "cell_type": "markdown",
   "metadata": {},
   "source": [
    "# Reshape data"
   ]
  },
  {
   "cell_type": "code",
   "execution_count": 6,
   "metadata": {},
   "outputs": [
    {
     "name": "stdout",
     "output_type": "stream",
     "text": [
      "number of training examples = 50000\n",
      "number of test examples = 10000\n",
      "X_train shape: (784, 50000)\n",
      "Y_train shape: (10, 50000)\n",
      "X_test shape: (784, 10000)\n",
      "Y_test shape: (10, 10000)\n"
     ]
    }
   ],
   "source": [
    "X_train_orig = X_train\n",
    "Y_train_orig = y_train\n",
    "X_test_orig = X_test\n",
    "Y_test_orig = y_test\n",
    "\n",
    "# Flatten the training and test images\n",
    "X_train_flatten = X_train_orig.reshape(X_train_orig.shape[0], -1).T\n",
    "X_test_flatten = X_test_orig.reshape(X_test_orig.shape[0], -1).T\n",
    "# Normalize image vectors\n",
    "X_train = X_train_flatten\n",
    "X_test = X_test_flatten\n",
    "# Convert training and test labels to one hot matrices\n",
    "with tf.Session() as s:\n",
    "    Y_train = s.run(tf.one_hot(Y_train_orig, depth=10,axis=0)) \n",
    "    Y_test = s.run(tf.one_hot(Y_test_orig, depth=10,axis=0))\n",
    "\n",
    "print (\"number of training examples = \" + str(X_train.shape[1]))\n",
    "print (\"number of test examples = \" + str(X_test.shape[1]))\n",
    "print (\"X_train shape: \" + str(X_train.shape))\n",
    "print (\"Y_train shape: \" + str(Y_train.shape))\n",
    "print (\"X_test shape: \" + str(X_test.shape))\n",
    "print (\"Y_test shape: \" + str(Y_test.shape))"
   ]
  },
  {
   "cell_type": "markdown",
   "metadata": {},
   "source": [
    "# Create weight and bias variables"
   ]
  },
  {
   "cell_type": "code",
   "execution_count": 7,
   "metadata": {},
   "outputs": [],
   "source": [
    "\n",
    "tf.set_random_seed(1)     \n",
    "nW1 = 48\n",
    "nW2 = 12+12\n",
    "W1 = tf.get_variable(\"W1\", [nW1,784], initializer = tf.contrib.layers.xavier_initializer(seed = 1))\n",
    "#W1 = tf.get_variable(\"W1\", [nW1,784], initializer = tf.zeros_initializer())\n",
    "b1 = tf.get_variable(\"b1\", [nW1,1], initializer = tf.zeros_initializer())\n",
    "W2 = tf.get_variable(\"W2\", [nW2,nW1], initializer = tf.contrib.layers.xavier_initializer(seed = 1))\n",
    "#W2 = tf.get_variable(\"W2\", [nW2,nW1], initializer = tf.zeros_initializer())\n",
    "b2 = tf.get_variable(\"b2\", [nW2,1], initializer = tf.zeros_initializer())\n",
    "W3 = tf.get_variable(\"W3\", [10,nW2], initializer = tf.contrib.layers.xavier_initializer(seed = 1))\n",
    "#W3 = tf.get_variable(\"W3\", [10,nW2], initializer = tf.zeros_initializer())\n",
    "b3 = tf.get_variable(\"b3\", [10,1], initializer = tf.zeros_initializer())\n",
    "   "
   ]
  },
  {
   "cell_type": "code",
   "execution_count": 8,
   "metadata": {
    "collapsed": true
   },
   "outputs": [],
   "source": [
    "parameters = {\"W1\": W1,\n",
    "              \"b1\": b1,\n",
    "              \"W2\": W2,\n",
    "              \"b2\": b2,\n",
    "              \"W3\": W3,\n",
    "              \"b3\": b3}\n"
   ]
  },
  {
   "cell_type": "markdown",
   "metadata": {},
   "source": [
    "# Create X, Y, and layers"
   ]
  },
  {
   "cell_type": "code",
   "execution_count": 9,
   "metadata": {
    "collapsed": true
   },
   "outputs": [],
   "source": [
    "X = tf.placeholder(dtype=tf.float32, shape=(784,None),name = \"X\")\n",
    "Y = tf.placeholder(dtype=tf.float32, shape=(10,None),name = \"Y\")\n"
   ]
  },
  {
   "cell_type": "code",
   "execution_count": 10,
   "metadata": {
    "collapsed": true
   },
   "outputs": [],
   "source": [
    "Z1 = tf.matmul(W1, X) + b1 \n",
    "A1 = tf.nn.relu(Z1)         \n",
    "Z2 = tf.matmul(W2, A1) + b2 \n",
    "A2 = tf.nn.relu(Z2)         \n",
    "Z3 = (tf.matmul(W3, A2) + b3)\n",
    "A3 = tf.nn.sigmoid(Z3)    "
   ]
  },
  {
   "cell_type": "markdown",
   "metadata": {},
   "source": [
    "# Create Cost Function"
   ]
  },
  {
   "cell_type": "code",
   "execution_count": 11,
   "metadata": {
    "collapsed": true
   },
   "outputs": [],
   "source": [
    "logits = tf.transpose(A3)\n",
    "labels = tf.transpose(Y)\n",
    "    \n",
    "cost = tf.reduce_mean(tf.nn.softmax_cross_entropy_with_logits(logits=logits, labels=labels))\n",
    "    "
   ]
  },
  {
   "cell_type": "code",
   "execution_count": 12,
   "metadata": {},
   "outputs": [
    {
     "name": "stdout",
     "output_type": "stream",
     "text": [
      "cost = Tensor(\"Mean:0\", shape=(), dtype=float32)\n"
     ]
    }
   ],
   "source": [
    "print(\"cost = \" + str(cost))"
   ]
  },
  {
   "cell_type": "markdown",
   "metadata": {},
   "source": [
    "# Define optimizer"
   ]
  },
  {
   "cell_type": "code",
   "execution_count": 13,
   "metadata": {
    "collapsed": true
   },
   "outputs": [],
   "source": [
    "learning_rate = init = tf.placeholder(tf.float32, shape=(), name=\"learning_rate\") #0.0006\n",
    "optimizer = tf.contrib.opt.NadamOptimizer(learning_rate = learning_rate).minimize(cost)"
   ]
  },
  {
   "cell_type": "markdown",
   "metadata": {},
   "source": [
    "# Run Optimization and evaluate performance"
   ]
  },
  {
   "cell_type": "code",
   "execution_count": 14,
   "metadata": {
    "collapsed": true
   },
   "outputs": [],
   "source": [
    "init = tf.global_variables_initializer()"
   ]
  },
  {
   "cell_type": "code",
   "execution_count": 15,
   "metadata": {},
   "outputs": [],
   "source": [
    "import timeit"
   ]
  },
  {
   "cell_type": "code",
   "execution_count": 16,
   "metadata": {},
   "outputs": [
    {
     "name": "stdout",
     "output_type": "stream",
     "text": [
      "number of minibatches: 1562\n",
      "Train cost after epoch 0: 1.608034\n",
      "Test cost after epoch 0: 1.531541\n",
      "Train cost after epoch 1: 1.523172\n",
      "Test cost after epoch 1: 1.513451\n",
      "Train cost after epoch 2: 1.508852\n",
      "Test cost after epoch 2: 1.503175\n",
      "Train cost after epoch 3: 1.501085\n",
      "Test cost after epoch 3: 1.500386\n",
      "Train cost after epoch 4: 1.495762\n",
      "Test cost after epoch 4: 1.495466\n",
      "Train cost after epoch 5: 1.491370\n",
      "Test cost after epoch 5: 1.494765\n",
      "Train cost after epoch 6: 1.488807\n",
      "Test cost after epoch 6: 1.492026\n",
      "Train cost after epoch 7: 1.486207\n",
      "Test cost after epoch 7: 1.490549\n",
      "Train cost after epoch 8: 1.484415\n",
      "Test cost after epoch 8: 1.489137\n",
      "Train cost after epoch 9: 1.482293\n",
      "Test cost after epoch 9: 1.490219\n",
      "Train cost after epoch 10: 1.480875\n",
      "Test cost after epoch 10: 1.489242\n",
      "Train cost after epoch 11: 1.479501\n",
      "Test cost after epoch 11: 1.489077\n",
      "Train cost after epoch 12: 1.478396\n",
      "Test cost after epoch 12: 1.486800\n",
      "Train cost after epoch 13: 1.477439\n",
      "Test cost after epoch 13: 1.488286\n",
      "Train cost after epoch 14: 1.477098\n",
      "Test cost after epoch 14: 1.487983\n",
      "Train cost after epoch 15: 1.475912\n",
      "Test cost after epoch 15: 1.487036\n",
      "Train cost after epoch 16: 1.475300\n",
      "Test cost after epoch 16: 1.486438\n",
      "Train cost after epoch 17: 1.474966\n",
      "Test cost after epoch 17: 1.485117\n",
      "Train cost after epoch 18: 1.474615\n",
      "Test cost after epoch 18: 1.486455\n",
      "Train cost after epoch 19: 1.474329\n",
      "Test cost after epoch 19: 1.486008\n",
      "Train cost after epoch 20: 1.473693\n",
      "Test cost after epoch 20: 1.489494\n",
      "Train cost after epoch 21: 1.473298\n",
      "Test cost after epoch 21: 1.486766\n",
      "Train cost after epoch 22: 1.472970\n",
      "Test cost after epoch 22: 1.486712\n",
      "Train cost after epoch 23: 1.472737\n",
      "Test cost after epoch 23: 1.484967\n",
      "Train cost after epoch 24: 1.472262\n",
      "Test cost after epoch 24: 1.484960\n",
      "Train cost after epoch 25: 1.471890\n",
      "Test cost after epoch 25: 1.485697\n",
      "Train cost after epoch 26: 1.472016\n",
      "Test cost after epoch 26: 1.485407\n",
      "Train cost after epoch 27: 1.471358\n",
      "Test cost after epoch 27: 1.486162\n",
      "Train cost after epoch 28: 1.471080\n",
      "Test cost after epoch 28: 1.485247\n",
      "Train cost after epoch 29: 1.471007\n",
      "Test cost after epoch 29: 1.483977\n",
      "Train cost after epoch 30: 1.470730\n",
      "Test cost after epoch 30: 1.485738\n",
      "Train cost after epoch 31: 1.470866\n",
      "Test cost after epoch 31: 1.485292\n",
      "Train cost after epoch 32: 1.470557\n",
      "Test cost after epoch 32: 1.484409\n",
      "Train cost after epoch 33: 1.470400\n",
      "Test cost after epoch 33: 1.486250\n",
      "Train cost after epoch 34: 1.470346\n",
      "Test cost after epoch 34: 1.485354\n",
      "Train cost after epoch 35: 1.470151\n",
      "Test cost after epoch 35: 1.486118\n",
      "Train cost after epoch 36: 1.469961\n",
      "Test cost after epoch 36: 1.485130\n",
      "Train cost after epoch 37: 1.469804\n",
      "Test cost after epoch 37: 1.484005\n",
      "Train cost after epoch 38: 1.469838\n",
      "Test cost after epoch 38: 1.486275\n",
      "Train cost after epoch 39: 1.469483\n",
      "Test cost after epoch 39: 1.484392\n",
      "Train cost after epoch 40: 1.469414\n",
      "Test cost after epoch 40: 1.483493\n",
      "Train cost after epoch 41: 1.469306\n",
      "Test cost after epoch 41: 1.485224\n",
      "Train cost after epoch 42: 1.469300\n",
      "Test cost after epoch 42: 1.485386\n",
      "Train cost after epoch 43: 1.469619\n",
      "Test cost after epoch 43: 1.484453\n",
      "Train cost after epoch 44: 1.469086\n",
      "Test cost after epoch 44: 1.484490\n",
      "Train cost after epoch 45: 1.468618\n",
      "Test cost after epoch 45: 1.485859\n",
      "Train cost after epoch 46: 1.468814\n",
      "Test cost after epoch 46: 1.487404\n",
      "Train cost after epoch 47: 1.468665\n",
      "Test cost after epoch 47: 1.485277\n",
      "Train cost after epoch 48: 1.468812\n",
      "Test cost after epoch 48: 1.484969\n",
      "Train cost after epoch 49: 1.468605\n",
      "Test cost after epoch 49: 1.486911\n",
      "Train cost after epoch 50: 1.468602\n",
      "Test cost after epoch 50: 1.485497\n",
      "Train cost after epoch 51: 1.468458\n",
      "Test cost after epoch 51: 1.486105\n",
      "Train cost after epoch 52: 1.468676\n",
      "Test cost after epoch 52: 1.485000\n",
      "Train cost after epoch 53: 1.468366\n",
      "Test cost after epoch 53: 1.484261\n",
      "Train cost after epoch 54: 1.468338\n",
      "Test cost after epoch 54: 1.484682\n",
      "Train cost after epoch 55: 1.468672\n",
      "Test cost after epoch 55: 1.485323\n",
      "Train cost after epoch 56: 1.468201\n",
      "Test cost after epoch 56: 1.485305\n",
      "Train cost after epoch 57: 1.468160\n",
      "Test cost after epoch 57: 1.486762\n",
      "Train cost after epoch 58: 1.468185\n",
      "Test cost after epoch 58: 1.489630\n",
      "Train cost after epoch 59: 1.468060\n",
      "Test cost after epoch 59: 1.486200\n"
     ]
    },
    {
     "data": {
      "image/png": "[encoded data removed]",
      "text/plain": [
       "<matplotlib.figure.Figure at 0x7fdb59365d30>"
      ]
     },
     "metadata": {},
     "output_type": "display_data"
    },
    {
     "data": {
      "image/png": "[encoded data removed]",
      "text/plain": [
       "<matplotlib.figure.Figure at 0x7fdb592f0f98>"
      ]
     },
     "metadata": {},
     "output_type": "display_data"
    },
    {
     "name": "stdout",
     "output_type": "stream",
     "text": [
      "Parameters have been trained!\n",
      "Train Accuracy: 0.99312\n",
      "Test Accuracy: 0.9756\n",
      "Elapsed time: 4.330891 minutes\n"
     ]
    }
   ],
   "source": [
    "tic = timeit.default_timer()\n",
    "num_epochs = 60\n",
    "minibatch_size = 32\n",
    "lr0 = (9e-4)\n",
    "tf.set_random_seed(1)              \n",
    "seed = 3                           \n",
    "(n_x, m) = X_train.shape           \n",
    "n_y = Y_train.shape[0]             \n",
    "costs = []\n",
    "test_cost = []\n",
    "num_minibatches = int(m / minibatch_size)\n",
    "with tf.Session() as s:\n",
    "    s.run(init)\n",
    "    print(\"number of minibatches: %i\" % num_minibatches)\n",
    "    for epoch in range(num_epochs):\n",
    "                indices = np.arange(m)\n",
    "                seed = seed + 1\n",
    "                np.random.seed(seed)   \n",
    "                tf.set_random_seed(seed)              \n",
    "                np.random.shuffle(indices)    \n",
    "                lr = lr0 - (epoch/num_epochs)*lr0*3/4\n",
    "                #print(lr)\n",
    "\n",
    "\n",
    "                epoch_cost = 0.                       # Defines a cost related to an epoch\n",
    "\n",
    "\n",
    "                for minibatch in range(num_minibatches):\n",
    "\n",
    "                    # Select a minibatch\n",
    "                    indxx = indices[(minibatch*minibatch_size):((minibatch+1)*minibatch_size)]\n",
    "                    #print(\"Min index: %i, Max index %i\"%(min(indxx),max(indxx)))\n",
    "                    minibatch_X = X_train[:,indxx]\n",
    "                    minibatch_Y = Y_train[:,indxx]\n",
    "\n",
    "                    _ , minibatch_cost = s.run([optimizer, cost], feed_dict={X: minibatch_X, Y: minibatch_Y,learning_rate:lr0})\n",
    "\n",
    "                    epoch_cost += minibatch_cost / num_minibatches\n",
    "\n",
    "                testcost = s.run(cost, feed_dict={X: X_test, Y: Y_test})\n",
    "                test_cost.append(testcost)\n",
    "                print (\"Train cost after epoch %i: %f\" % (epoch, epoch_cost))\n",
    "                print (\"Test cost after epoch %i: %f\" % (epoch, testcost))\n",
    "\n",
    "                costs.append(epoch_cost)\n",
    "\n",
    "            # plot the cost\n",
    "    plt.plot(np.squeeze(costs))\n",
    "    plt.ylabel('training loss')\n",
    "    plt.xlabel('iterations')\n",
    "    plt.title(\"Training loss\")\n",
    "    plt.show()\n",
    "    \n",
    "    plt.plot(np.squeeze(test_cost))\n",
    "    plt.ylabel('test loss')\n",
    "    plt.xlabel('iterations')\n",
    "    plt.title(\"Testing loss\")\n",
    "    plt.show()\n",
    "\n",
    "\n",
    "\n",
    "    #parameters = s.run(parameters)\n",
    "    print (\"Parameters have been trained!\")\n",
    "\n",
    "    toc = timeit.default_timer()\n",
    "            # Calculate the correct predictions\n",
    "    correct_prediction = tf.equal(tf.argmax(A3), tf.argmax(Y))\n",
    "\n",
    "            # Calculate accuracy on the test set\n",
    "    accuracy = tf.reduce_mean(tf.cast(correct_prediction, \"float\"))\n",
    "\n",
    "    print (\"Train Accuracy:\", accuracy.eval({X: X_train, Y: Y_train}))\n",
    "    print (\"Test Accuracy:\", accuracy.eval({X: X_test, Y: Y_test}))\n",
    "    print(\"Elapsed time: %f minutes\" % ((toc-tic)/60))\n"
   ]
  },
  {
   "cell_type": "markdown",
   "metadata": {},
   "source": [
    "# Plot results"
   ]
  },
  {
   "cell_type": "code",
   "execution_count": 20,
   "metadata": {},
   "outputs": [
    {
     "data": {
      "image/png": "[encoded data removed]",
      "text/plain": [
       "<matplotlib.figure.Figure at 0x7fdb54612a90>"
      ]
     },
     "metadata": {},
     "output_type": "display_data"
    },
    {
     "data": {
      "image/png": "[encoded data removed]",
      "text/plain": [
       "<matplotlib.figure.Figure at 0x7fdb5bffe518>"
      ]
     },
     "metadata": {},
     "output_type": "display_data"
    }
   ],
   "source": [
    "plt.plot(np.squeeze(costs))\n",
    "plt.ylabel('training loss')\n",
    "plt.xlabel('iterations')\n",
    "plt.title(\"Training loss\")\n",
    "plt.show()\n",
    "    \n",
    "plt.plot(np.squeeze(test_cost))\n",
    "plt.ylabel('test loss')\n",
    "plt.xlabel('iterations')\n",
    "plt.title(\"Testing loss\")\n",
    "plt.show()\n",
    "\n"
   ]
  },
  {
   "cell_type": "markdown",
   "metadata": {},
   "source": [
    "# Elapsed time"
   ]
  },
  {
   "cell_type": "code",
   "execution_count": 18,
   "metadata": {},
   "outputs": [
    {
     "name": "stdout",
     "output_type": "stream",
     "text": [
      "Elapsed time: 4.330891 minutes\n"
     ]
    }
   ],
   "source": [
    "print(\"Elapsed time: %f minutes\" % ((toc-tic)/60))"
   ]
  },
  {
   "cell_type": "code",
   "execution_count": 19,
   "metadata": {},
   "outputs": [
    {
     "data": {
      "text/plain": [
       "{'W1': <tf.Variable 'W1:0' shape=(48, 784) dtype=float32_ref>,\n",
       " 'W2': <tf.Variable 'W2:0' shape=(24, 48) dtype=float32_ref>,\n",
       " 'W3': <tf.Variable 'W3:0' shape=(10, 24) dtype=float32_ref>,\n",
       " 'b1': <tf.Variable 'b1:0' shape=(48, 1) dtype=float32_ref>,\n",
       " 'b2': <tf.Variable 'b2:0' shape=(24, 1) dtype=float32_ref>,\n",
       " 'b3': <tf.Variable 'b3:0' shape=(10, 1) dtype=float32_ref>}"
      ]
     },
     "execution_count": 19,
     "metadata": {},
     "output_type": "execute_result"
    }
   ],
   "source": [
    "parameters"
   ]
  }
 ],
 "metadata": {
  "kernelspec": {
   "display_name": "Python 3",
   "language": "python",
   "name": "python3"
  },
  "language_info": {
   "codemirror_mode": {
    "name": "ipython",
    "version": 3
   },
   "file_extension": ".py",
   "mimetype": "text/x-python",
   "name": "python",
   "nbconvert_exporter": "python",
   "pygments_lexer": "ipython3",
   "version": "3.6.0"
  }
 },
 "nbformat": 4,
 "nbformat_minor": 2
}
