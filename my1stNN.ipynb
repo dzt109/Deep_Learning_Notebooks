{
 "cells": [
  {
   "cell_type": "code",
   "execution_count": 1,
   "metadata": {},
   "outputs": [
    {
     "name": "stderr",
     "output_type": "stream",
     "text": [
      "Using TensorFlow backend.\n"
     ]
    },
    {
     "name": "stdout",
     "output_type": "stream",
     "text": [
      "(50000, 28, 28) (50000,)\n"
     ]
    }
   ],
   "source": [
    "from preprocessed_mnist import load_dataset\n",
    "X_train, y_train, X_val, y_val, X_test, y_test = load_dataset()\n",
    "print(X_train.shape, y_train.shape)\n",
    "import matplotlib.pyplot as plt\n",
    "%matplotlib inline\n"
   ]
  },
  {
   "cell_type": "code",
   "execution_count": 2,
   "metadata": {},
   "outputs": [
    {
     "data": {
      "image/png": "[encoded data removed]",
      "text/plain": [
       "<matplotlib.figure.Figure at 0x7f73912b0748>"
      ]
     },
     "metadata": {},
     "output_type": "display_data"
    }
   ],
   "source": [
    "plt.imshow(X_train[431], cmap=\"Greys\");"
   ]
  },
  {
   "cell_type": "code",
   "execution_count": 3,
   "metadata": {
    "collapsed": true
   },
   "outputs": [],
   "source": [
    "import tensorflow as tf\n",
    "#s = tf.InteractiveSession()"
   ]
  },
  {
   "cell_type": "code",
   "execution_count": 4,
   "metadata": {},
   "outputs": [
    {
     "data": {
      "text/plain": [
       "9"
      ]
     },
     "execution_count": 4,
     "metadata": {},
     "output_type": "execute_result"
    }
   ],
   "source": [
    "max(y_train)"
   ]
  },
  {
   "cell_type": "code",
   "execution_count": 5,
   "metadata": {
    "collapsed": true
   },
   "outputs": [],
   "source": [
    "import numpy as np"
   ]
  },
  {
   "cell_type": "code",
   "execution_count": 6,
   "metadata": {},
   "outputs": [
    {
     "name": "stdout",
     "output_type": "stream",
     "text": [
      "number of training examples = 50000\n",
      "number of test examples = 10000\n",
      "X_train shape: (784, 50000)\n",
      "Y_train shape: (10, 50000)\n",
      "X_test shape: (784, 10000)\n",
      "Y_test shape: (10, 10000)\n"
     ]
    }
   ],
   "source": [
    "X_train_orig = X_train\n",
    "Y_train_orig = y_train\n",
    "X_test_orig = X_test\n",
    "Y_test_orig = y_test\n",
    "\n",
    "# Flatten the training and test images\n",
    "X_train_flatten = X_train_orig.reshape(X_train_orig.shape[0], -1).T\n",
    "X_test_flatten = X_test_orig.reshape(X_test_orig.shape[0], -1).T\n",
    "# Normalize image vectors\n",
    "X_train = X_train_flatten\n",
    "X_test = X_test_flatten\n",
    "# Convert training and test labels to one hot matrices\n",
    "with tf.Session() as s:\n",
    "    Y_train = s.run(tf.one_hot(Y_train_orig, depth=10,axis=0)) \n",
    "    Y_test = s.run(tf.one_hot(Y_test_orig, depth=10,axis=0))\n",
    "\n",
    "print (\"number of training examples = \" + str(X_train.shape[1]))\n",
    "print (\"number of test examples = \" + str(X_test.shape[1]))\n",
    "print (\"X_train shape: \" + str(X_train.shape))\n",
    "print (\"Y_train shape: \" + str(Y_train.shape))\n",
    "print (\"X_test shape: \" + str(X_test.shape))\n",
    "print (\"Y_test shape: \" + str(Y_test.shape))"
   ]
  },
  {
   "cell_type": "code",
   "execution_count": 7,
   "metadata": {
    "collapsed": true
   },
   "outputs": [],
   "source": [
    "tf.set_random_seed(1)     \n",
    "nW1 = 30\n",
    "nW2 = 12\n",
    "W1 = tf.get_variable(\"W1\", [nW1,784], initializer = tf.contrib.layers.xavier_initializer(seed = 1))\n",
    "#W1 = tf.get_variable(\"W1\", [nW1,784], initializer = tf.zeros_initializer())\n",
    "b1 = tf.get_variable(\"b1\", [nW1,1], initializer = tf.zeros_initializer())\n",
    "W2 = tf.get_variable(\"W2\", [nW2,nW1], initializer = tf.contrib.layers.xavier_initializer(seed = 1))\n",
    "#W2 = tf.get_variable(\"W2\", [nW2,nW1], initializer = tf.zeros_initializer())\n",
    "b2 = tf.get_variable(\"b2\", [nW2,1], initializer = tf.zeros_initializer())\n",
    "W3 = tf.get_variable(\"W3\", [10,nW2], initializer = tf.contrib.layers.xavier_initializer(seed = 1))\n",
    "#W3 = tf.get_variable(\"W3\", [10,nW2], initializer = tf.zeros_initializer())\n",
    "b3 = tf.get_variable(\"b3\", [10,1], initializer = tf.zeros_initializer())\n",
    "   "
   ]
  },
  {
   "cell_type": "code",
   "execution_count": 8,
   "metadata": {
    "collapsed": true
   },
   "outputs": [],
   "source": [
    "parameters = {\"W1\": W1,\n",
    "              \"b1\": b1,\n",
    "              \"W2\": W2,\n",
    "              \"b2\": b2,\n",
    "              \"W3\": W3,\n",
    "              \"b3\": b3}\n"
   ]
  },
  {
   "cell_type": "code",
   "execution_count": 9,
   "metadata": {
    "collapsed": true
   },
   "outputs": [],
   "source": [
    "X = tf.placeholder(dtype=tf.float32, shape=(784,None),name = \"X\")\n",
    "Y = tf.placeholder(dtype=tf.float32, shape=(10,None),name = \"Y\")\n"
   ]
  },
  {
   "cell_type": "code",
   "execution_count": 10,
   "metadata": {
    "collapsed": true
   },
   "outputs": [],
   "source": [
    "Z1 = tf.matmul(W1, X) + b1 \n",
    "A1 = tf.nn.relu(Z1)         \n",
    "Z2 = tf.matmul(W2, A1) + b2 \n",
    "A2 = tf.nn.relu(Z2)         \n",
    "Z3 = (tf.matmul(W3, A2) + b3)\n"
   ]
  },
  {
   "cell_type": "code",
   "execution_count": 11,
   "metadata": {
    "collapsed": true
   },
   "outputs": [],
   "source": [
    "logits = tf.transpose(Z3)\n",
    "labels = tf.transpose(Y)\n",
    "    \n",
    "cost = tf.reduce_mean(tf.nn.softmax_cross_entropy_with_logits(logits=logits, labels=labels))\n",
    "    "
   ]
  },
  {
   "cell_type": "code",
   "execution_count": 12,
   "metadata": {},
   "outputs": [
    {
     "name": "stdout",
     "output_type": "stream",
     "text": [
      "cost = Tensor(\"Mean:0\", shape=(), dtype=float32)\n"
     ]
    }
   ],
   "source": [
    "print(\"cost = \" + str(cost))"
   ]
  },
  {
   "cell_type": "code",
   "execution_count": 13,
   "metadata": {
    "collapsed": true
   },
   "outputs": [],
   "source": [
    "learning_rate = 0.005\n",
    "optimizer = tf.contrib.opt.NadamOptimizer(learning_rate = learning_rate).minimize(cost)"
   ]
  },
  {
   "cell_type": "code",
   "execution_count": 14,
   "metadata": {
    "collapsed": true
   },
   "outputs": [],
   "source": [
    "init = tf.global_variables_initializer()"
   ]
  },
  {
   "cell_type": "code",
   "execution_count": null,
   "metadata": {
    "collapsed": true
   },
   "outputs": [],
   "source": []
  },
  {
   "cell_type": "code",
   "execution_count": 15,
   "metadata": {},
   "outputs": [
    {
     "name": "stdout",
     "output_type": "stream",
     "text": [
      "number of minibatches: 50\n",
      "Cost after epoch 0: 0.860588\n",
      "Cost after epoch 1: 0.298667\n",
      "Cost after epoch 2: 0.235898\n",
      "Cost after epoch 3: 0.195351\n",
      "Cost after epoch 4: 0.167286\n",
      "Cost after epoch 5: 0.147420\n",
      "Cost after epoch 6: 0.132343\n",
      "Cost after epoch 7: 0.120565\n",
      "Cost after epoch 8: 0.110571\n",
      "Cost after epoch 9: 0.102628\n",
      "Cost after epoch 10: 0.095416\n",
      "Cost after epoch 11: 0.089693\n",
      "Cost after epoch 12: 0.083303\n",
      "Cost after epoch 13: 0.078442\n",
      "Cost after epoch 14: 0.073457\n",
      "Cost after epoch 15: 0.070840\n",
      "Cost after epoch 16: 0.066174\n",
      "Cost after epoch 17: 0.062728\n",
      "Cost after epoch 18: 0.059022\n",
      "Cost after epoch 19: 0.057027\n",
      "Cost after epoch 20: 0.054081\n",
      "Cost after epoch 21: 0.052179\n",
      "Cost after epoch 22: 0.049194\n",
      "Cost after epoch 23: 0.046632\n",
      "Cost after epoch 24: 0.045630\n",
      "Cost after epoch 25: 0.043062\n",
      "Cost after epoch 26: 0.040677\n",
      "Cost after epoch 27: 0.038764\n",
      "Cost after epoch 28: 0.037188\n",
      "Cost after epoch 29: 0.035072\n",
      "Cost after epoch 30: 0.033950\n",
      "Cost after epoch 31: 0.032950\n",
      "Cost after epoch 32: 0.030468\n",
      "Cost after epoch 33: 0.027920\n",
      "Cost after epoch 34: 0.028408\n",
      "Cost after epoch 35: 0.025946\n",
      "Cost after epoch 36: 0.025021\n",
      "Cost after epoch 37: 0.024250\n",
      "Cost after epoch 38: 0.022255\n",
      "Cost after epoch 39: 0.020995\n",
      "Cost after epoch 40: 0.020087\n",
      "Cost after epoch 41: 0.019373\n",
      "Cost after epoch 42: 0.018546\n",
      "Cost after epoch 43: 0.018739\n",
      "Cost after epoch 44: 0.015970\n",
      "Cost after epoch 45: 0.015096\n",
      "Cost after epoch 46: 0.014864\n",
      "Cost after epoch 47: 0.015182\n",
      "Cost after epoch 48: 0.015036\n",
      "Cost after epoch 49: 0.013396\n",
      "Cost after epoch 50: 0.012096\n",
      "Cost after epoch 51: 0.010648\n",
      "Cost after epoch 52: 0.010082\n",
      "Cost after epoch 53: 0.009509\n",
      "Cost after epoch 54: 0.007913\n",
      "Cost after epoch 55: 0.008166\n",
      "Cost after epoch 56: 0.007709\n",
      "Cost after epoch 57: 0.007027\n",
      "Cost after epoch 58: 0.007370\n",
      "Cost after epoch 59: 0.006852\n",
      "Cost after epoch 60: 0.007987\n",
      "Cost after epoch 61: 0.007380\n",
      "Cost after epoch 62: 0.007969\n",
      "Cost after epoch 63: 0.007362\n",
      "Cost after epoch 64: 0.009522\n",
      "Cost after epoch 65: 0.009209\n",
      "Cost after epoch 66: 0.009655\n",
      "Cost after epoch 67: 0.012046\n",
      "Cost after epoch 68: 0.011771\n",
      "Cost after epoch 69: 0.010665\n",
      "Cost after epoch 70: 0.009799\n",
      "Cost after epoch 71: 0.007807\n",
      "Cost after epoch 72: 0.006454\n",
      "Cost after epoch 73: 0.005909\n",
      "Cost after epoch 74: 0.004773\n",
      "Cost after epoch 75: 0.003025\n",
      "Cost after epoch 76: 0.002122\n",
      "Cost after epoch 77: 0.001572\n",
      "Cost after epoch 78: 0.001383\n",
      "Cost after epoch 79: 0.001177\n",
      "Cost after epoch 80: 0.001047\n",
      "Cost after epoch 81: 0.000959\n",
      "Cost after epoch 82: 0.000936\n",
      "Cost after epoch 83: 0.000884\n",
      "Cost after epoch 84: 0.000848\n",
      "Cost after epoch 85: 0.000809\n",
      "Cost after epoch 86: 0.000796\n",
      "Cost after epoch 87: 0.000744\n",
      "Cost after epoch 88: 0.000722\n",
      "Cost after epoch 89: 0.000700\n",
      "Cost after epoch 90: 0.000681\n",
      "Cost after epoch 91: 0.000645\n",
      "Cost after epoch 92: 0.000615\n",
      "Cost after epoch 93: 0.000596\n",
      "Cost after epoch 94: 0.000570\n",
      "Cost after epoch 95: 0.000567\n",
      "Cost after epoch 96: 0.000530\n",
      "Cost after epoch 97: 0.000524\n",
      "Cost after epoch 98: 0.000499\n",
      "Cost after epoch 99: 0.000484\n",
      "Cost after epoch 100: 0.000483\n",
      "Cost after epoch 101: 0.000455\n",
      "Cost after epoch 102: 0.000439\n",
      "Cost after epoch 103: 0.000424\n",
      "Cost after epoch 104: 0.000411\n",
      "Cost after epoch 105: 0.000400\n",
      "Cost after epoch 106: 0.000386\n",
      "Cost after epoch 107: 0.000378\n",
      "Cost after epoch 108: 0.000372\n",
      "Cost after epoch 109: 0.000352\n",
      "Cost after epoch 110: 0.000338\n",
      "Cost after epoch 111: 0.000331\n",
      "Cost after epoch 112: 0.000317\n",
      "Cost after epoch 113: 0.000307\n",
      "Cost after epoch 114: 0.000295\n",
      "Cost after epoch 115: 0.000293\n",
      "Cost after epoch 116: 0.000278\n",
      "Cost after epoch 117: 0.000278\n",
      "Cost after epoch 118: 0.000267\n",
      "Cost after epoch 119: 0.000253\n"
     ]
    },
    {
     "data": {
      "image/png": "[encoded data removed]",
      "text/plain": [
       "<matplotlib.figure.Figure at 0x7f73912fc390>"
      ]
     },
     "metadata": {},
     "output_type": "display_data"
    },
    {
     "name": "stdout",
     "output_type": "stream",
     "text": [
      "Parameters have been trained!\n",
      "Train Accuracy: 1.0\n",
      "Test Accuracy: 0.9615\n"
     ]
    }
   ],
   "source": [
    "num_epochs = 120\n",
    "minibatch_size = 1000\n",
    "\n",
    "tf.set_random_seed(1)              \n",
    "seed = 3                           \n",
    "(n_x, m) = X_train.shape           \n",
    "n_y = Y_train.shape[0]             \n",
    "costs = []                         \n",
    "num_minibatches = int(m / minibatch_size)\n",
    "with tf.Session() as s:\n",
    "    s.run(init)\n",
    "    print(\"number of minibatches: %i\" % num_minibatches)\n",
    "    for epoch in range(num_epochs):\n",
    "                indices = np.arange(m)\n",
    "                seed = seed + 1\n",
    "                np.random.seed(seed)   \n",
    "                tf.set_random_seed(seed)              \n",
    "                np.random.shuffle(indices)    \n",
    "\n",
    "\n",
    "                epoch_cost = 0.                       # Defines a cost related to an epoch\n",
    "\n",
    "\n",
    "                for minibatch in range(num_minibatches):\n",
    "\n",
    "                    # Select a minibatch\n",
    "                    indxx = indices[(minibatch*minibatch_size):((minibatch+1)*minibatch_size)]\n",
    "                    #print(\"Min index: %i, Max index %i\"%(min(indxx),max(indxx)))\n",
    "                    minibatch_X = X_train[:,indxx]\n",
    "                    minibatch_Y = Y_train[:,indxx]\n",
    "\n",
    "                    _ , minibatch_cost = s.run([optimizer, cost], feed_dict={X: minibatch_X, Y: minibatch_Y})\n",
    "\n",
    "                    epoch_cost += minibatch_cost / num_minibatches\n",
    "\n",
    "\n",
    "\n",
    "                print (\"Cost after epoch %i: %f\" % (epoch, epoch_cost))\n",
    "\n",
    "                costs.append(epoch_cost)\n",
    "\n",
    "            # plot the cost\n",
    "    plt.plot(np.squeeze(costs))\n",
    "    plt.ylabel('cost')\n",
    "    plt.xlabel('iterations (per tens)')\n",
    "    plt.title(\"Learning rate =\" + str(learning_rate))\n",
    "    plt.show()\n",
    "\n",
    "\n",
    "    #parameters = s.run(parameters)\n",
    "    print (\"Parameters have been trained!\")\n",
    "\n",
    "            # Calculate the correct predictions\n",
    "    correct_prediction = tf.equal(tf.argmax(Z3), tf.argmax(Y))\n",
    "\n",
    "            # Calculate accuracy on the test set\n",
    "    accuracy = tf.reduce_mean(tf.cast(correct_prediction, \"float\"))\n",
    "\n",
    "    print (\"Train Accuracy:\", accuracy.eval({X: X_train, Y: Y_train}))\n",
    "    print (\"Test Accuracy:\", accuracy.eval({X: X_test, Y: Y_test}))\n"
   ]
  },
  {
   "cell_type": "code",
   "execution_count": 21,
   "metadata": {},
   "outputs": [
    {
     "data": {
      "text/plain": [
       "(784, 50000)"
      ]
     },
     "execution_count": 21,
     "metadata": {},
     "output_type": "execute_result"
    }
   ],
   "source": [
    "X_train.shape"
   ]
  },
  {
   "cell_type": "code",
   "execution_count": 22,
   "metadata": {},
   "outputs": [
    {
     "data": {
      "text/plain": [
       "(10, 50000)"
      ]
     },
     "execution_count": 22,
     "metadata": {},
     "output_type": "execute_result"
    }
   ],
   "source": [
    "Y_train.shape"
   ]
  },
  {
   "cell_type": "code",
   "execution_count": 23,
   "metadata": {},
   "outputs": [
    {
     "data": {
      "text/plain": [
       "array([ 0.,  0.,  0., ...,  0.,  0.,  0.], dtype=float32)"
      ]
     },
     "execution_count": 23,
     "metadata": {},
     "output_type": "execute_result"
    }
   ],
   "source": [
    "Y_train[1]"
   ]
  },
  {
   "cell_type": "code",
   "execution_count": 36,
   "metadata": {
    "collapsed": true
   },
   "outputs": [],
   "source": [
    "Y_trainn = s.run(Y_train)"
   ]
  },
  {
   "cell_type": "code",
   "execution_count": 38,
   "metadata": {},
   "outputs": [
    {
     "data": {
      "text/plain": [
       "(10, 50000)"
      ]
     },
     "execution_count": 38,
     "metadata": {},
     "output_type": "execute_result"
    }
   ],
   "source": [
    "Y_trainn.shape"
   ]
  },
  {
   "cell_type": "code",
   "execution_count": 39,
   "metadata": {},
   "outputs": [
    {
     "data": {
      "text/plain": [
       "{'W1': array([[-0.06720018, -0.07504497,  0.04103547, ..., -0.08275126,\n",
       "         -0.05040052,  0.0525768 ],\n",
       "        [-0.0529878 , -0.01708265, -0.01616621, ..., -0.07227308,\n",
       "         -0.05561358, -0.08293803],\n",
       "        [-0.00988778,  0.08625709,  0.03805394, ...,  0.05612972,\n",
       "         -0.02120328,  0.0418506 ],\n",
       "        ..., \n",
       "        [ 0.07044296,  0.06624061, -0.0271799 , ..., -0.06787877,\n",
       "         -0.00106919,  0.04162848],\n",
       "        [-0.06980925, -0.01510062, -0.03495448, ..., -0.06967811,\n",
       "         -0.06183787,  0.06442802],\n",
       "        [-0.01783203, -0.07641722, -0.05176296, ...,  0.08393447,\n",
       "         -0.05920894, -0.03230729]], dtype=float32),\n",
       " 'W2': array([[ -3.96870412e-02,  -1.33576319e-01,  -4.98572558e-01,\n",
       "           3.40133011e-01,   1.01581194e-01,   1.19886242e-01,\n",
       "           1.53185293e-01,   1.62030216e-02,  -6.51375830e-01,\n",
       "           1.01300567e-01,  -8.82598683e-02,   3.36597502e-01,\n",
       "          -1.30174130e-01,  -2.87880659e-01,  -6.46692872e-01,\n",
       "          -1.34355903e-01,  -3.66663873e-01,   2.78515697e-01,\n",
       "           1.73179433e-01,   1.93418741e-01],\n",
       "        [ -1.37829557e-01,  -1.10135287e-01,  -2.46291503e-01,\n",
       "          -1.31499290e-01,  -5.05772471e-01,  -1.61897734e-01,\n",
       "           3.19064111e-01,  -3.78578603e-01,  -5.80888569e-01,\n",
       "           2.96284497e-01,  -3.26933920e-01,   2.21912321e-02,\n",
       "          -2.20382884e-01,  -3.66568804e-01,   2.78958529e-01,\n",
       "          -4.50220436e-01,   4.97578591e-01,   3.62899363e-01,\n",
       "           3.82546812e-01,   4.36844816e-03],\n",
       "        [ -9.51563492e-02,  -2.04201728e-01,  -8.39986801e-02,\n",
       "           8.20110142e-02,   2.50432700e-01,   1.85530737e-01,\n",
       "          -4.87810746e-02,   3.02779227e-02,  -7.06338882e-01,\n",
       "           3.88832092e-02,  -6.24342203e-01,   4.71668333e-01,\n",
       "          -3.10219258e-01,   1.94717899e-01,  -1.19722828e-01,\n",
       "          -1.19685245e+00,  -9.90579203e-02,   1.14338202e-02,\n",
       "           1.95998955e-03,   1.63690999e-01],\n",
       "        [  1.89976335e-01,   1.06010601e-01,  -7.02918470e-01,\n",
       "           1.22478783e-01,  -2.39170119e-01,  -2.35187709e-01,\n",
       "          -5.38818575e-02,  -4.24526930e-01,  -4.50291991e-01,\n",
       "          -2.97771841e-01,  -6.41859055e-01,  -6.33245766e-01,\n",
       "          -1.06084859e+00,  -2.42054656e-01,  -2.79530048e-01,\n",
       "          -9.49654356e-02,   4.07793701e-01,   5.87257802e-01,\n",
       "          -2.25552276e-01,  -4.49935496e-01],\n",
       "        [  7.35776961e-01,   8.31028938e-01,  -1.76456618e+00,\n",
       "          -6.77059531e-01,   7.23484516e-01,  -1.70823485e-01,\n",
       "          -3.43210489e-01,   3.33022445e-01,  -5.43010592e-01,\n",
       "           1.93423852e-01,   1.35153306e+00,  -1.09790832e-01,\n",
       "           4.11198288e-01,  -2.00039411e+00,  -1.32100537e-01,\n",
       "           7.07166612e-01,   6.15175903e-01,   6.35633571e-03,\n",
       "          -2.20452368e-01,  -5.26569858e-02],\n",
       "        [  1.37850091e-01,   5.24014175e-01,  -7.15993762e-01,\n",
       "          -3.50960881e-01,  -1.35640964e-01,  -1.81142494e-01,\n",
       "          -1.98718116e-01,   7.39217550e-02,  -2.29709059e-01,\n",
       "          -1.21006183e-01,  -5.63197792e-01,  -6.14331782e-01,\n",
       "          -5.66002019e-02,  -5.66150069e-01,  -6.62604496e-02,\n",
       "          -4.84920681e-01,  -4.44348425e-01,  -5.67791104e-01,\n",
       "           1.80261061e-01,  -5.01242936e-01],\n",
       "        [  3.99145484e-01,  -1.72131985e-01,   1.47502214e-01,\n",
       "           6.07836068e-01,   1.14927329e-01,  -5.40403664e-01,\n",
       "          -2.76041716e-01,   5.05059779e-01,  -3.24249238e-01,\n",
       "          -4.62447256e-01,  -6.15385354e-01,   4.56548154e-01,\n",
       "          -5.97723842e-01,  -8.81695867e-01,  -4.31882441e-01,\n",
       "          -1.80092692e-01,  -3.05764645e-01,   5.97992778e-01,\n",
       "          -1.10407479e-01,   1.19711369e-01],\n",
       "        [ -2.41765872e-01,  -2.29260474e-01,  -1.54817715e-01,\n",
       "           6.83264211e-02,   2.85590321e-01,   9.76130366e-02,\n",
       "          -6.70511007e-01,  -6.19224310e-01,  -5.90839207e-01,\n",
       "           4.61913615e-01,   3.36409241e-01,   1.27765208e-01,\n",
       "          -1.74466863e-01,   8.92132819e-02,   4.15846080e-01,\n",
       "           1.74320936e-01,  -3.52519393e-01,  -4.02871579e-01,\n",
       "          -4.37687755e-01,  -1.26233041e-01]], dtype=float32),\n",
       " 'W3': array([[ 0.42902318, -0.15306357,  0.52649575,  0.72471285,  0.13000628,\n",
       "          0.12190886,  0.32601628,  0.12280089],\n",
       "        [ 0.03748321,  0.02437115,  0.11540077, -0.7231378 , -1.25750005,\n",
       "         -0.22950952,  0.61717677,  0.436555  ],\n",
       "        [ 0.07712045, -0.41408134,  1.02778518, -0.53602242,  0.68299466,\n",
       "          0.03544718, -1.1197685 ,  0.46793672],\n",
       "        [-0.89169115,  0.64494967,  0.28378838,  0.99000293,  0.30051962,\n",
       "          0.19671433,  1.1452049 , -0.55907971],\n",
       "        [ 0.22184694, -0.6331985 ,  0.08112795,  1.27358413,  1.33101141,\n",
       "          0.64907146,  1.20490384,  0.01310576],\n",
       "        [ 0.26623118,  0.00299102, -0.10991141,  1.44882631,  1.49849868,\n",
       "         -0.01396501,  0.81672913, -0.70415407],\n",
       "        [-0.26917031,  0.09561704,  0.80517387,  1.20040178,  0.40097466,\n",
       "         -0.07378358,  0.48430645,  0.0355707 ],\n",
       "        [-0.46977514,  0.41943294,  0.47736317,  0.53363538,  0.11231937,\n",
       "         -0.17202854,  0.5410974 ,  0.02708516],\n",
       "        [-0.17346598, -0.44324511,  0.56514984,  0.71934736,  0.61672336,\n",
       "          0.61622125, -0.85405982, -0.02102031],\n",
       "        [-0.15926243,  0.10827902, -0.12202831, -0.4327594 ,  0.24883705,\n",
       "          0.06594077,  0.24366777, -0.17036469]], dtype=float32),\n",
       " 'b1': array([[-0.30021718],\n",
       "        [-0.19349052],\n",
       "        [-0.3229388 ],\n",
       "        [-0.3002508 ],\n",
       "        [-0.3002705 ],\n",
       "        [-0.30025095],\n",
       "        [-0.2076268 ],\n",
       "        [-0.30024907],\n",
       "        [-0.56629854],\n",
       "        [-0.30026445],\n",
       "        [-0.61672586],\n",
       "        [-0.30001134],\n",
       "        [-0.60937649],\n",
       "        [ 1.51793206],\n",
       "        [-0.61287272],\n",
       "        [-0.34968942],\n",
       "        [-0.31273761],\n",
       "        [-0.30018607],\n",
       "        [-0.21025938],\n",
       "        [-0.30022785]], dtype=float32),\n",
       " 'b2': array([[-0.15404388],\n",
       "        [-0.30026773],\n",
       "        [-0.55218136],\n",
       "        [-0.58268273],\n",
       "        [-0.67702925],\n",
       "        [-0.30027077],\n",
       "        [-0.47086808],\n",
       "        [-0.30026862]], dtype=float32),\n",
       " 'b3': array([[ 0.77421767],\n",
       "        [-0.09835545],\n",
       "        [-0.14639269],\n",
       "        [ 0.75427341],\n",
       "        [-0.06983173],\n",
       "        [-0.29189649],\n",
       "        [ 0.67656922],\n",
       "        [ 0.78509158],\n",
       "        [-0.22829117],\n",
       "        [-0.04482741]], dtype=float32)}"
      ]
     },
     "execution_count": 39,
     "metadata": {},
     "output_type": "execute_result"
    }
   ],
   "source": [
    "parameters"
   ]
  },
  {
   "cell_type": "code",
   "execution_count": 24,
   "metadata": {},
   "outputs": [
    {
     "data": {
      "text/plain": [
       "2.3021202"
      ]
     },
     "execution_count": 24,
     "metadata": {},
     "output_type": "execute_result"
    }
   ],
   "source": [
    "s.run(cost,feed_dict={X: minibatch_X, Y: minibatch_Y})"
   ]
  },
  {
   "cell_type": "code",
   "execution_count": 13,
   "metadata": {},
   "outputs": [
    {
     "data": {
      "text/plain": [
       "1.0"
      ]
     },
     "execution_count": 13,
     "metadata": {},
     "output_type": "execute_result"
    }
   ],
   "source": [
    "np.max(X_train)"
   ]
  },
  {
   "cell_type": "code",
   "execution_count": 39,
   "metadata": {},
   "outputs": [
    {
     "data": {
      "text/plain": [
       "array([ 0.,  0.,  0.,  0.,  0.,  0.,  0.,  0.,  0.,  0.], dtype=float32)"
      ]
     },
     "execution_count": 39,
     "metadata": {},
     "output_type": "execute_result"
    }
   ],
   "source": [
    "(s.run(logits, feed_dict={X: minibatch_X, Y: minibatch_Y}))[2323]"
   ]
  },
  {
   "cell_type": "code",
   "execution_count": 25,
   "metadata": {},
   "outputs": [
    {
     "data": {
      "text/plain": [
       "{'W1': array([[-0.07631713, -0.08264387, -0.07369589, ..., -0.03552275,\n",
       "          0.00845262,  0.02124172],\n",
       "        [ 0.06525106,  0.04823687,  0.02396534, ...,  0.08348287,\n",
       "          0.05830055, -0.07414245],\n",
       "        [-0.03481081,  0.07262535, -0.00927146, ...,  0.0398467 ,\n",
       "          0.06920759, -0.04578754],\n",
       "        ..., \n",
       "        [ 0.03296611, -0.06692924,  0.02579892, ..., -0.0556815 ,\n",
       "          0.03801493,  0.01178505],\n",
       "        [ 0.06525917,  0.02668189,  0.01230507, ...,  0.07517792,\n",
       "         -0.07230525, -0.03107211],\n",
       "        [-0.01726518,  0.07918937, -0.01236165, ..., -0.05489742,\n",
       "         -0.08120432, -0.03143509]], dtype=float32),\n",
       " 'W2': array([[  5.15263714e-02,  -9.33143377e-01,   6.22057542e-02,\n",
       "          -7.31075287e-01,   6.43202424e-01,  -1.41934771e-03,\n",
       "          -1.18474297e-01,  -5.60593545e-01,  -5.76536715e-01,\n",
       "          -6.17277563e-01,  -6.36844218e-01,  -5.68461120e-01,\n",
       "          -1.57323912e-01,  -3.53225797e-01,  -2.86674827e-01,\n",
       "          -2.55769879e-01,   3.23321447e-02,  -4.10791159e-01,\n",
       "          -4.82432187e-01,  -7.50719607e-01,   5.71820736e-01,\n",
       "          -3.95904519e-02,  -4.95013297e-01,  -3.06851059e-01,\n",
       "          -2.07498167e-02,  -6.39527321e-01,  -5.51895022e-01,\n",
       "          -4.59011495e-01,   3.24692160e-01,  -7.75212228e-01],\n",
       "        [  1.22942030e+00,  -1.40115798e-01,   2.05085135e+00,\n",
       "           2.99426287e-01,   1.85447618e-01,   1.72837585e-01,\n",
       "          -2.10607305e-01,   1.12017035e+00,  -3.89212966e-01,\n",
       "          -1.91537961e-02,  -5.21486580e-01,   5.55594742e-01,\n",
       "           3.72274578e-01,   3.33080471e-01,  -6.52061403e-01,\n",
       "           2.01928169e-01,  -1.53310359e-01,  -3.87827009e-01,\n",
       "           2.29025817e+00,  -1.74853325e+00,   1.62100196e-01,\n",
       "          -1.34938806e-01,   2.27247611e-01,  -1.89253137e-01,\n",
       "           3.17313641e-01,  -1.32816577e+00,  -1.33425295e+00,\n",
       "          -9.90188420e-01,   8.33583951e-01,   4.17478353e-01],\n",
       "        [  5.24743758e-02,   1.83651701e-01,   1.72340477e+00,\n",
       "           5.61667442e-01,   2.71332830e-01,  -2.66347408e-01,\n",
       "           4.38733310e-01,  -1.75392377e+00,   5.61669171e-02,\n",
       "          -5.23791611e-01,  -3.88386041e-01,  -1.80194962e+00,\n",
       "           3.73718202e-01,  -2.44940710e+00,  -3.01782250e-01,\n",
       "           3.89868915e-01,  -7.68947840e-01,   2.89560413e+00,\n",
       "           8.38929236e-01,   2.95971781e-01,   6.62509680e-01,\n",
       "           5.27762651e-01,  -1.45764351e+00,   6.56117201e-01,\n",
       "          -1.02355286e-01,   5.24568677e-01,   2.64753580e+00,\n",
       "           1.24667668e+00,  -3.20936084e-01,   1.34951460e+00],\n",
       "        [  5.61522722e-01,  -5.12512386e-01,  -1.35485828e+00,\n",
       "          -2.29704142e+00,  -9.40893292e-01,  -1.30724823e+00,\n",
       "           5.24254441e-01,  -1.41839516e+00,  -1.76870003e-01,\n",
       "          -2.00147673e-01,   5.11855304e-01,  -1.94351792e+00,\n",
       "           2.32631639e-01,  -2.23556742e-01,  -1.54542494e+00,\n",
       "          -1.31871611e-01,  -4.41378504e-01,  -1.70991674e-01,\n",
       "           1.32417870e+00,  -9.88787234e-01,   2.40071476e-01,\n",
       "           3.59782219e-01,  -6.54674828e-01,  -6.61238432e-01,\n",
       "           1.63496852e+00,  -7.54210472e-01,  -1.86568424e-01,\n",
       "          -2.33475700e-01,   5.41066587e-01,   2.42996603e-01],\n",
       "        [ -8.95020485e-01,  -7.21265256e-01,  -1.45897365e+00,\n",
       "          -9.85782027e-01,   1.14363456e+00,   2.74784833e-01,\n",
       "           5.28628349e-01,   1.80205715e+00,   2.04844967e-01,\n",
       "          -3.83545399e-01,  -3.23432714e-01,   3.08762908e+00,\n",
       "           4.36294794e-01,   2.90249252e+00,   2.01171350e+00,\n",
       "          -2.51384348e-01,  -6.85519516e-01,  -5.25440514e-01,\n",
       "          -1.19725740e+00,  -1.24012744e+00,  -1.14339896e-01,\n",
       "           5.56951284e-01,   1.88466501e+00,  -7.75888145e-01,\n",
       "           1.75742894e-01,  -5.73476076e-01,  -2.06414804e-01,\n",
       "           6.27505958e-01,  -2.42019460e-01,  -1.15895307e+00],\n",
       "        [  4.17979769e-02,  -1.39906064e-01,  -1.16962204e-02,\n",
       "           2.37062275e-01,   1.15482485e+00,  -1.79334015e-01,\n",
       "          -3.85881126e-01,   5.94906628e-01,  -9.00730789e-01,\n",
       "           3.92192841e-01,  -5.02756357e-01,  -6.27588689e-01,\n",
       "           4.17528033e-01,   1.14499819e+00,  -4.42760497e-01,\n",
       "           1.97019666e-01,   1.43373990e-02,   2.62520373e-01,\n",
       "          -5.53834617e-01,   1.53050554e+00,  -5.88788539e-02,\n",
       "          -2.96125710e-01,   4.83557045e-01,   4.67680544e-01,\n",
       "          -3.31839949e-01,  -2.68620163e-01,  -1.11320592e-01,\n",
       "          -5.18297195e-01,   2.54293025e-01,  -1.20863609e-01],\n",
       "        [  5.06852090e-01,  -3.42264861e-01,  -1.72286737e+00,\n",
       "          -2.04361939e+00,   2.00991377e-01,   1.57773510e-01,\n",
       "          -2.28879020e-01,  -6.63640559e-01,   1.48001000e-01,\n",
       "          -2.14554369e-01,  -3.63487810e-01,  -8.99450183e-01,\n",
       "          -3.91323492e-02,  -1.86371899e+00,  -3.19508910e+00,\n",
       "           5.22426009e-01,   4.61610377e-01,  -8.47649217e-01,\n",
       "          -8.34333226e-02,   9.23690319e-01,   5.78501374e-02,\n",
       "           1.58309415e-01,  -1.31419826e+00,   5.37745118e-01,\n",
       "          -5.73467910e-01,   4.02763486e-01,  -1.62192702e+00,\n",
       "          -6.47609711e-01,  -2.63436109e-01,  -1.29992771e+00],\n",
       "        [ -2.68148541e-01,   4.00160700e-01,   9.72269177e-01,\n",
       "          -6.91310406e-01,  -1.71658337e+00,  -5.14909089e-01,\n",
       "           2.76083887e-01,  -4.85361487e-01,  -1.04128158e+00,\n",
       "           2.81875908e-01,   3.63874048e-01,   1.31729603e+00,\n",
       "           8.33943766e-03,  -1.11297166e+00,  -9.62165594e-02,\n",
       "           2.65099704e-01,  -5.27841337e-02,   1.10336447e+00,\n",
       "           1.98517382e+00,   1.75452495e+00,   1.60091929e-02,\n",
       "           6.62015736e-01,   1.60602486e+00,   2.41404951e-01,\n",
       "          -3.36692899e-01,   2.17422152e+00,  -4.18351322e-01,\n",
       "           1.01175420e-02,  -9.30341005e-01,   1.94216168e+00],\n",
       "        [ -1.05230240e-02,  -6.59598708e-01,  -5.59450313e-02,\n",
       "          -6.95149481e-01,  -3.50918323e-01,  -2.57570922e-01,\n",
       "          -2.97180474e-01,  -7.13747203e-01,   1.88136175e-02,\n",
       "          -3.58275801e-01,  -3.08214098e-01,  -4.38041806e-01,\n",
       "          -3.58583242e-01,  -3.93726118e-02,   9.54091374e-04,\n",
       "          -2.09139913e-01,  -2.10392773e-01,  -8.54415119e-01,\n",
       "          -2.77487546e-01,  -2.15711489e-01,  -1.29653588e-01,\n",
       "          -4.07053649e-01,  -4.91262585e-01,  -6.53863251e-01,\n",
       "          -6.83769763e-01,  -4.24231976e-01,  -5.20896614e-01,\n",
       "          -6.05662882e-01,  -1.40963182e-01,  -6.55731678e-01],\n",
       "        [ -9.09364879e-01,   4.53514755e-01,   3.93940002e-01,\n",
       "           2.85772949e-01,   2.18151021e+00,   2.68257827e-01,\n",
       "           3.11070085e-01,   2.69362831e+00,  -5.32248199e-01,\n",
       "           6.37772441e-01,   1.51031107e-01,   1.68020502e-01,\n",
       "           5.41387320e-01,   6.25909567e-01,   1.16854072e+00,\n",
       "          -2.41992548e-02,  -4.00010854e-01,   5.83023906e-01,\n",
       "          -1.50243893e-01,  -1.00563669e+00,  -5.38136244e-01,\n",
       "           2.70033538e-01,  -3.41898113e-01,   6.48984551e-01,\n",
       "          -7.41145849e-01,  -9.58912313e-01,   1.05025327e+00,\n",
       "           8.65670741e-01,   8.21964622e-01,  -5.97024918e-01],\n",
       "        [ -1.76372141e-01,   2.86692739e-01,  -1.01260316e+00,\n",
       "          -7.12925851e-01,  -1.67762589e+00,   1.88201055e-01,\n",
       "          -5.59398383e-02,  -1.57234955e+00,   1.12213898e+00,\n",
       "           3.39775056e-01,  -5.03089845e-01,  -6.18644536e-01,\n",
       "          -1.99781284e-01,   1.16898358e+00,   8.45089734e-01,\n",
       "          -3.25784981e-02,  -6.65468574e-02,   1.32114136e+00,\n",
       "           2.97306150e-01,  -1.25687790e+00,   1.20768987e-01,\n",
       "           3.48078579e-01,  -3.11296135e-01,   5.03376424e-02,\n",
       "           1.90554488e+00,   5.90117395e-01,   9.82758462e-01,\n",
       "           5.37074745e-01,   8.06953430e-01,   4.74665761e-01],\n",
       "        [  3.20119441e-01,  -7.85287321e-01,  -4.87424046e-01,\n",
       "          -2.70123988e-01,  -1.44761920e+00,  -1.00546107e-01,\n",
       "          -8.83550867e-02,  -5.95340431e-01,  -2.31714696e-01,\n",
       "          -4.41880286e-01,   1.50685444e-01,  -4.31543499e-01,\n",
       "          -4.84646291e-01,  -9.08706486e-02,   3.08495432e-01,\n",
       "          -6.19510770e-01,  -7.97568202e-01,  -3.29408526e-01,\n",
       "          -1.29720616e+00,   3.79464626e-01,  -6.89634681e-02,\n",
       "          -2.80650239e-02,   3.94683272e-01,  -4.90632951e-01,\n",
       "          -3.07049662e-01,   1.56324893e-01,  -7.01839387e-01,\n",
       "          -5.95612586e-01,   5.91179356e-02,  -6.01097643e-01]], dtype=float32),\n",
       " 'W3': array([[ 0.10051826, -1.64037561, -1.96313012,  0.25515383, -1.67008805,\n",
       "         -0.32366541, -0.43675864,  1.62371302, -0.0788407 , -1.28233027,\n",
       "         -1.18356156, -0.11364415],\n",
       "        [-0.08735506, -0.99475294, -0.31431732,  1.20341039,  0.72563124,\n",
       "          0.33574766, -0.5095861 , -2.76167917,  0.39897558, -0.99428207,\n",
       "          0.17330083,  1.24443674],\n",
       "        [-0.60939038,  2.44925666, -1.82247484,  0.10812792, -2.11353755,\n",
       "          0.20871791, -0.67635715, -1.5467658 ,  0.43268201,  0.05458595,\n",
       "         -0.56132996,  0.28977242],\n",
       "        [-0.18459906,  0.45738071,  1.99468076,  1.48143613, -0.87203652,\n",
       "         -0.15230015, -0.12103954,  0.78134096,  0.16762951, -0.19316186,\n",
       "         -0.53133851, -0.48858792],\n",
       "        [ 0.84502   ,  0.9413898 , -0.29161733, -1.09575737,  2.16104579,\n",
       "          0.79626042,  0.59324688, -0.67099893, -0.11309988,  1.69408572,\n",
       "         -0.58118916, -0.74101335],\n",
       "        [ 0.21701474, -0.89366597,  1.40829992, -0.85912836, -0.85789949,\n",
       "         -0.65471148,  0.2642546 , -0.87605923, -0.56115967,  0.45859006,\n",
       "          0.24976133, -0.08750137],\n",
       "        [-0.69694376,  1.68313766, -0.24623305, -0.95686197, -2.97590852,\n",
       "         -0.3883304 ,  2.06018162,  1.01616216,  0.2948831 ,  0.41765308,\n",
       "          1.06079459,  0.11252872],\n",
       "        [-0.85259235, -0.88924289, -0.40436977,  0.31573105,  2.91426849,\n",
       "         -1.87160897, -0.57400632,  0.09191309,  0.01315759, -1.42932284,\n",
       "         -2.14034915,  0.77737302],\n",
       "        [-0.34078792,  0.30582523,  1.32720661, -0.857373  ,  0.03667596,\n",
       "         -0.4126431 , -0.88902563,  1.76573992,  0.20365761,  0.84590137,\n",
       "          1.43819153, -0.04944522],\n",
       "        [ 0.33677146,  0.77090609, -1.12925613, -0.58144552,  2.06662607,\n",
       "         -1.41341281, -1.12379551, -0.05429177,  0.18400058, -0.55043674,\n",
       "          2.02053022, -0.13885051]], dtype=float32),\n",
       " 'b1': array([[ 0.19689928],\n",
       "        [-1.07331419],\n",
       "        [-0.88741052],\n",
       "        [-0.66790414],\n",
       "        [-0.28458688],\n",
       "        [-2.41478992],\n",
       "        [-0.55674493],\n",
       "        [ 1.78027284],\n",
       "        [-1.07195854],\n",
       "        [-0.65284157],\n",
       "        [-0.63261938],\n",
       "        [ 1.8310684 ],\n",
       "        [-0.5528565 ],\n",
       "        [ 1.48174047],\n",
       "        [-0.20587263],\n",
       "        [-0.59528649],\n",
       "        [-0.66727215],\n",
       "        [-0.84076357],\n",
       "        [ 0.40318272],\n",
       "        [-0.65055674],\n",
       "        [-0.36976108],\n",
       "        [-0.48928115],\n",
       "        [ 0.01376362],\n",
       "        [-0.75685096],\n",
       "        [ 0.34571007],\n",
       "        [-1.52858174],\n",
       "        [-0.45527813],\n",
       "        [-0.63765085],\n",
       "        [-0.22254069],\n",
       "        [ 0.1400068 ]], dtype=float32),\n",
       " 'b2': array([[-0.58073968],\n",
       "        [ 1.56100321],\n",
       "        [-0.26334402],\n",
       "        [-0.29557043],\n",
       "        [ 0.51193064],\n",
       "        [ 0.41623357],\n",
       "        [-1.27134287],\n",
       "        [-0.14626758],\n",
       "        [-0.61744606],\n",
       "        [ 0.87317425],\n",
       "        [-1.17375445],\n",
       "        [-0.29313394]], dtype=float32),\n",
       " 'b3': array([[-0.00143195],\n",
       "        [-0.00102154],\n",
       "        [-0.00129864],\n",
       "        [-0.00065829],\n",
       "        [-0.00107523],\n",
       "        [-0.00092278],\n",
       "        [ 0.00024435],\n",
       "        [-0.00157631],\n",
       "        [-0.00018897],\n",
       "        [-0.00065564]], dtype=float32)}"
      ]
     },
     "execution_count": 25,
     "metadata": {},
     "output_type": "execute_result"
    }
   ],
   "source": [
    "parameters"
   ]
  },
  {
   "cell_type": "code",
   "execution_count": 49,
   "metadata": {},
   "outputs": [
    {
     "data": {
      "text/plain": [
       "2.3030374"
      ]
     },
     "execution_count": 49,
     "metadata": {},
     "output_type": "execute_result"
    }
   ],
   "source": [
    "s.run(cost, feed_dict={X: minibatch_X, Y: minibatch_Y})"
   ]
  },
  {
   "cell_type": "code",
   "execution_count": 26,
   "metadata": {},
   "outputs": [
    {
     "data": {
      "text/plain": [
       "(<tf.Tensor 'ArgMax_2:0' shape=(?,) dtype=int64>,\n",
       " <tf.Tensor 'ArgMax_3:0' shape=(?,) dtype=int64>)"
      ]
     },
     "execution_count": 26,
     "metadata": {},
     "output_type": "execute_result"
    }
   ],
   "source": [
    "tf.argmax(Z3), tf.argmax(Y)"
   ]
  },
  {
   "cell_type": "code",
   "execution_count": 34,
   "metadata": {},
   "outputs": [
    {
     "data": {
      "text/plain": [
       "(array([  4.88490000e+04,   1.13900000e+03,   4.00000000e+00,\n",
       "          1.00000000e+00,   1.00000000e+00,   1.00000000e+00,\n",
       "          1.00000000e+00,   1.00000000e+00,   3.00000000e+00]),\n",
       " array([ 0.,  1.,  2.,  3.,  4.,  5.,  6.,  7.,  8.,  9.]),\n",
       " <a list of 9 Patch objects>)"
      ]
     },
     "execution_count": 34,
     "metadata": {},
     "output_type": "execute_result"
    },
    {
     "data": {
      "image/png": "[encoded data removed]",
      "text/plain": [
       "<matplotlib.figure.Figure at 0x7f3bdff12ef0>"
      ]
     },
     "metadata": {},
     "output_type": "display_data"
    }
   ],
   "source": [
    "plt.hist(s.run(tf.argmax(Z3.eval({X: X_train, Y: Y_train}))),9)"
   ]
  },
  {
   "cell_type": "code",
   "execution_count": 36,
   "metadata": {},
   "outputs": [
    {
     "data": {
      "text/plain": [
       "(array([ 0.,  0.,  0.,  0.,  1.,  0.,  0.,  0.,  0.]),\n",
       " array([ 0.5       ,  0.61111111,  0.72222222,  0.83333333,  0.94444444,\n",
       "         1.05555556,  1.16666667,  1.27777778,  1.38888889,  1.5       ]),\n",
       " <a list of 9 Patch objects>)"
      ]
     },
     "execution_count": 36,
     "metadata": {},
     "output_type": "execute_result"
    },
    {
     "data": {
      "image/png": "[encoded data removed]",
      "text/plain": [
       "<matplotlib.figure.Figure at 0x7f3b92e9cf28>"
      ]
     },
     "metadata": {},
     "output_type": "display_data"
    }
   ],
   "source": []
  },
  {
   "cell_type": "code",
   "execution_count": 25,
   "metadata": {},
   "outputs": [
    {
     "data": {
      "text/plain": [
       "<matplotlib.collections.PathCollection at 0x7f8e6ffd61d0>"
      ]
     },
     "execution_count": 25,
     "metadata": {},
     "output_type": "execute_result"
    },
    {
     "data": {
      "image/png": "[encoded data removed]",
      "text/plain": [
       "<matplotlib.figure.Figure at 0x7f8e7c418d68>"
      ]
     },
     "metadata": {},
     "output_type": "display_data"
    }
   ],
   "source": [
    "plt.scatter(Y_train[:,122],Y_train[:,123])"
   ]
  },
  {
   "cell_type": "code",
   "execution_count": 32,
   "metadata": {},
   "outputs": [
    {
     "data": {
      "text/plain": [
       "{'W1': array([[-0.07631713, -0.08264387, -0.07369589, ..., -0.03552275,\n",
       "          0.00845262,  0.02124172],\n",
       "        [ 0.06525106,  0.04823687,  0.02396534, ...,  0.08348287,\n",
       "          0.05830055, -0.07414245],\n",
       "        [-0.03481081,  0.07262535, -0.00927146, ...,  0.0398467 ,\n",
       "          0.06920759, -0.04578754],\n",
       "        ..., \n",
       "        [ 0.03296611, -0.06692924,  0.02579892, ..., -0.0556815 ,\n",
       "          0.03801493,  0.01178505],\n",
       "        [ 0.06525917,  0.02668189,  0.01230507, ...,  0.07517792,\n",
       "         -0.07230525, -0.03107211],\n",
       "        [-0.01726518,  0.07918937, -0.01236165, ..., -0.05489742,\n",
       "         -0.08120432, -0.03143509]], dtype=float32),\n",
       " 'W2': array([[  5.13917468e-02,  -9.32943106e-01,   6.20714277e-02,\n",
       "          -7.30879068e-01,   6.43017650e-01,  -1.39815896e-03,\n",
       "          -1.18318863e-01,  -5.60415864e-01,  -5.76358318e-01,\n",
       "          -6.17075503e-01,  -6.36679292e-01,  -5.68289042e-01,\n",
       "          -1.57150805e-01,  -3.53036672e-01,  -2.86553234e-01,\n",
       "          -2.55567938e-01,   3.23698223e-02,  -4.10675466e-01,\n",
       "          -4.82321203e-01,  -7.50530362e-01,   5.71750998e-01,\n",
       "          -3.96402329e-02,  -4.94815260e-01,  -3.06643724e-01,\n",
       "          -2.07796022e-02,  -6.39326513e-01,  -5.51801443e-01,\n",
       "          -4.58859503e-01,   3.24512988e-01,  -7.75023282e-01],\n",
       "        [  1.22928512e+00,  -5.92371464e-01,  -1.00511126e-01,\n",
       "          -6.53197348e-01,  -4.86668348e-01,   1.87087834e-01,\n",
       "          -2.10612357e-01,   5.14969349e-01,   3.22853416e-01,\n",
       "          -1.91600285e-02,  -5.21433115e-01,  -3.01011335e-02,\n",
       "           3.72251540e-01,  -8.80157113e-01,  -2.89163679e-01,\n",
       "           1.65233865e-01,  -1.53394878e-01,  -7.50746846e-01,\n",
       "           1.31900692e+00,  -5.27650893e-01,   1.62047520e-01,\n",
       "          -1.34928629e-01,  -6.26860261e-02,  -1.89339846e-01,\n",
       "           3.69505972e-01,  -7.47893691e-01,  -1.21316040e+00,\n",
       "          -6.60832405e-01,   8.34307492e-01,  -2.82075346e-01],\n",
       "        [  5.17406762e-02,  -1.20852664e-01,   1.18126512e+00,\n",
       "           4.17359293e-01,   1.57054901e-01,  -3.95888388e-01,\n",
       "           4.38666075e-01,  -1.06830096e+00,  -7.44639933e-01,\n",
       "          -5.23586214e-01,  -3.88291121e-01,  -1.21885538e+00,\n",
       "           3.73542964e-01,  -1.49336290e+00,  -2.72079736e-01,\n",
       "           3.89623672e-01,  -7.68686950e-01,   2.31496119e+00,\n",
       "           7.79862702e-01,  -5.40408432e-01,   6.62406147e-01,\n",
       "           5.27654529e-01,  -1.48158157e+00,   6.55879259e-01,\n",
       "          -1.03625104e-01,   2.03004424e-02,   1.87474453e+00,\n",
       "           9.29375231e-01,  -1.71670467e-01,   7.22781181e-01],\n",
       "        [  5.60964942e-01,  -5.33491194e-01,  -6.06787920e-01,\n",
       "          -1.66493857e+00,  -8.19547296e-01,  -9.56663907e-01,\n",
       "           5.24083853e-01,  -8.56526911e-01,   1.47095680e-01,\n",
       "          -1.99918941e-01,   5.11766493e-01,  -1.23169029e+00,\n",
       "           2.32461885e-01,   9.81092811e-01,  -7.36654878e-01,\n",
       "          -1.17985889e-01,  -4.40853983e-01,   1.92253590e-01,\n",
       "           1.32435858e+00,  -9.98128176e-01,   2.39931613e-01,\n",
       "           3.59633356e-01,  -1.58198699e-02,  -6.61073625e-01,\n",
       "           1.58195126e+00,  -2.01644599e-01,   2.87705123e-01,\n",
       "           4.31807905e-01,   1.03460360e+00,   3.61718297e-01],\n",
       "        [ -8.96753192e-01,  -4.32154059e-01,  -9.22425926e-01,\n",
       "           2.82277912e-01,   5.43078423e-01,   2.70822495e-01,\n",
       "           5.28428018e-01,   7.27081597e-01,   2.04659104e-01,\n",
       "          -3.83313328e-01,  -3.23280066e-01,   1.14546657e+00,\n",
       "           4.36112881e-01,   6.48389637e-01,   1.35181224e+00,\n",
       "          -2.51366645e-01,  -6.85113788e-01,  -7.38166213e-01,\n",
       "          -1.69771481e+00,  -5.18366694e-01,  -1.14227675e-01,\n",
       "           5.56774676e-01,   3.31501007e-01,  -7.75671482e-01,\n",
       "          -8.11370730e-01,  -6.19748712e-01,   2.61068475e-02,\n",
       "           1.00137877e+00,  -2.40865037e-01,  -1.16691494e+00],\n",
       "        [  4.21362258e-02,   1.87554762e-01,  -1.35021910e-01,\n",
       "          -6.66383952e-02,   2.09735537e+00,  -3.10226053e-01,\n",
       "          -3.85871172e-01,   1.11753678e+00,   9.58886519e-02,\n",
       "           3.92010123e-01,  -5.02731562e-01,  -2.38487601e-01,\n",
       "           4.17512864e-01,   1.08051193e+00,  -7.65466273e-01,\n",
       "           2.03426853e-01,   1.45032769e-02,   4.08476055e-01,\n",
       "           5.69581866e-01,   3.70305032e-01,  -5.88633046e-02,\n",
       "          -2.96111822e-01,   2.58724838e-01,   4.67424572e-01,\n",
       "          -1.78984940e-01,  -8.89910579e-01,   5.06281704e-02,\n",
       "          -8.75345767e-01,  -3.93938050e-02,   3.64264637e-01],\n",
       "        [  5.06094635e-01,  -2.88112313e-01,  -6.50681555e-01,\n",
       "          -4.14601356e-01,   4.29245263e-01,   1.58083230e-01,\n",
       "          -2.28888854e-01,   8.77464339e-02,   1.47992328e-01,\n",
       "          -2.14572012e-01,  -3.63427460e-01,   2.03138649e-01,\n",
       "          -3.91446166e-02,  -3.19001228e-01,  -1.29511666e+00,\n",
       "           5.22277772e-01,   4.61422056e-01,  -8.41350675e-01,\n",
       "          -6.91946924e-01,   6.72933236e-02,   5.78422807e-02,\n",
       "           1.58298686e-01,  -7.59236634e-01,   5.37519395e-01,\n",
       "           5.29176950e-01,  -4.73912835e-01,  -1.39743710e+00,\n",
       "          -6.44251704e-01,  -2.63421565e-01,  -1.15458000e+00],\n",
       "        [ -2.67345756e-01,   6.00556806e-02,   5.29984593e-01,\n",
       "          -6.95120633e-01,  -2.44115925e+00,  -5.13510823e-01,\n",
       "           2.75892019e-01,  -1.21149015e+00,  -6.81980476e-02,\n",
       "           2.81638831e-01,   3.63519430e-01,   2.04825237e-01,\n",
       "           8.23097955e-03,  -1.59327948e+00,  -1.87868893e-01,\n",
       "           2.64848650e-01,  -5.26122674e-02,   9.99206424e-01,\n",
       "           9.25122023e-01,   8.30245554e-01,   1.61311179e-02,\n",
       "           6.61913276e-01,   7.88230777e-01,   2.41393909e-01,\n",
       "          -3.84605438e-01,   1.73670208e+00,  -5.45609832e-01,\n",
       "           1.79176211e-01,  -7.98730791e-01,   1.19278812e+00],\n",
       "        [ -1.03680938e-02,  -6.59370482e-01,  -5.58418743e-02,\n",
       "          -6.94919050e-01,  -3.50915968e-01,  -2.57580221e-01,\n",
       "          -2.97201008e-01,  -7.13551581e-01,   1.88543778e-02,\n",
       "          -3.58211100e-01,  -3.07991475e-01,  -4.37820852e-01,\n",
       "          -3.58572274e-01,  -3.92623469e-02,   9.29846021e-04,\n",
       "          -2.09027410e-01,  -2.10416049e-01,  -8.54202747e-01,\n",
       "          -2.77271748e-01,  -2.15483740e-01,  -1.29653588e-01,\n",
       "          -4.07041550e-01,  -4.91202831e-01,  -6.53652668e-01,\n",
       "          -6.83628678e-01,  -4.24180150e-01,  -5.20803511e-01,\n",
       "          -6.05475903e-01,  -1.40926704e-01,  -6.55510306e-01],\n",
       "        [ -9.10403371e-01,   6.12242639e-01,   5.49884319e-01,\n",
       "           1.05299819e+00,   4.52595562e-01,  -8.16236883e-02,\n",
       "           3.10871303e-01,   1.19640350e+00,  -5.26588321e-01,\n",
       "           6.37573242e-01,   1.50789276e-01,   2.11872742e-01,\n",
       "           5.41204333e-01,  -9.44881558e-01,   1.42183077e+00,\n",
       "          -2.42724754e-02,  -3.99809808e-01,   4.81898934e-01,\n",
       "           2.06316039e-01,  -8.22413117e-02,  -5.37967741e-01,\n",
       "           2.69850165e-01,  -1.03492928e+00,   6.48714066e-01,\n",
       "          -6.93530500e-01,  -7.84093678e-01,   8.12626779e-01,\n",
       "           6.44429564e-01,   6.02053285e-01,  -1.81008950e-01],\n",
       "        [ -1.77736625e-01,  -6.07675195e-01,  -4.04149532e-01,\n",
       "          -3.15078020e-01,  -1.33031118e+00,   8.10754299e-01,\n",
       "          -5.59519380e-02,  -1.06151831e+00,   3.63652408e-02,\n",
       "           3.39710087e-01,  -5.02867758e-01,   1.95251971e-01,\n",
       "          -1.99780703e-01,   1.78705442e+00,   1.51008391e+00,\n",
       "          -5.31061143e-02,  -6.64274246e-02,   5.88303864e-01,\n",
       "           5.19506216e-01,  -8.30027580e-01,   1.20772272e-01,\n",
       "           3.48027855e-01,   9.73174796e-02,   5.02948835e-02,\n",
       "           2.39165568e+00,   1.24680674e+00,   1.23111916e+00,\n",
       "           1.07740378e+00,   1.54037166e+00,   2.72496253e-01],\n",
       "        [  3.21053892e-01,  -7.84063816e-01,  -4.86059427e-01,\n",
       "          -2.69785494e-01,  -1.44607460e+00,  -1.00002632e-01,\n",
       "          -8.81970227e-02,  -5.94652414e-01,  -2.31649712e-01,\n",
       "          -4.41801280e-01,   1.50727704e-01,  -4.31395620e-01,\n",
       "          -4.84547734e-01,  -8.72826874e-02,   3.09584916e-01,\n",
       "          -6.19018853e-01,  -7.96914220e-01,  -3.28213036e-01,\n",
       "          -1.29598713e+00,   3.79233629e-01,  -6.89600185e-02,\n",
       "          -2.79461518e-02,   3.94826800e-01,  -4.90462661e-01,\n",
       "          -3.05729896e-01,   1.56913310e-01,  -6.99822724e-01,\n",
       "          -5.93656898e-01,   6.07686751e-02,  -5.99967778e-01]], dtype=float32),\n",
       " 'W3': array([[ 0.10031967, -0.44767922, -1.10138285, -0.11797749, -0.78515899,\n",
       "          0.52323669, -0.43634212,  1.07586908, -0.07884791, -0.31704992,\n",
       "         -0.57939613, -0.11441863],\n",
       "        [-0.08716052,  0.02911276,  0.23560734,  1.42687559, -0.20054781,\n",
       "         -1.4640274 , -0.50876892, -0.55304897,  0.39901295, -1.85807347,\n",
       "          1.72005379,  1.24414957],\n",
       "        [-0.60922998,  1.60623741, -1.5753845 , -0.72116035, -0.64415222,\n",
       "         -0.56268102, -0.68188387, -1.16955078,  0.43251163,  0.10839442,\n",
       "          0.43045461,  0.28918073],\n",
       "        [-0.18464242,  0.48722032,  0.88100499,  0.99719304, -0.87045509,\n",
       "         -1.12467813, -0.12077889,  0.67391998,  0.16747244, -0.77597344,\n",
       "          0.28217381, -0.48837781],\n",
       "        [ 0.84489417, -1.06316686, -0.29284298, -1.09538555,  0.48887214,\n",
       "         -0.69052279, -0.59243906, -0.67276335, -0.11297047,  0.92968768,\n",
       "         -0.90004218, -0.74072832],\n",
       "        [ 0.21684697, -0.93107766,  0.93000203, -1.03246975, -0.5649842 ,\n",
       "         -0.9905163 ,  0.20889118, -0.83257216, -0.56112933,  0.28307176,\n",
       "          0.28392577, -0.08830565],\n",
       "        [-0.69676107,  0.03753503, -1.08865929, -0.95658612, -0.02998435,\n",
       "          1.00029731,  1.85971797, -0.89449197,  0.29496196,  0.57136637,\n",
       "         -0.05099643,  0.11251611],\n",
       "        [-0.85244668, -0.04841007, -0.39803842,  0.58695412,  1.74227417,\n",
       "         -0.01500442,  0.79399711, -0.9940322 ,  0.0131303 , -0.88248974,\n",
       "         -1.87571621,  0.77554578],\n",
       "        [-0.34065247,  0.34570584,  1.06908929, -0.60586411,  0.0398241 ,\n",
       "         -0.68574667, -0.88876563,  1.82748997,  0.20368876,  0.18509771,\n",
       "          0.88141209, -0.04852618],\n",
       "        [ 0.33670199, -0.83582723, -1.12883162, -0.58121318,  1.48554921,\n",
       "         -0.12988727, -0.12994555, -0.04214466,  0.18404202,  0.38720438,\n",
       "          1.54506779, -0.1377307 ]], dtype=float32),\n",
       " 'b1': array([[ 0.19863233],\n",
       "        [-0.53226137],\n",
       "        [-1.62480664],\n",
       "        [-0.26311117],\n",
       "        [ 0.88147372],\n",
       "        [-1.95745313],\n",
       "        [-0.55654973],\n",
       "        [ 2.21222138],\n",
       "        [-0.52031302],\n",
       "        [-0.65259862],\n",
       "        [-0.63207436],\n",
       "        [ 0.88191938],\n",
       "        [-0.55266249],\n",
       "        [ 1.53160918],\n",
       "        [-0.48788136],\n",
       "        [-0.59498084],\n",
       "        [-0.666915  ],\n",
       "        [-0.20320874],\n",
       "        [ 0.21306419],\n",
       "        [-1.24273324],\n",
       "        [-0.36963293],\n",
       "        [-0.48911032],\n",
       "        [-0.20698874],\n",
       "        [-0.75656945],\n",
       "        [ 0.80683035],\n",
       "        [-1.29601967],\n",
       "        [ 0.91483068],\n",
       "        [ 0.0201182 ],\n",
       "        [ 0.08960938],\n",
       "        [ 0.14537561]], dtype=float32),\n",
       " 'b2': array([[-0.58053541],\n",
       "        [ 1.07749379],\n",
       "        [ 0.1041157 ],\n",
       "        [ 0.47700474],\n",
       "        [ 0.63378984],\n",
       "        [ 0.70744181],\n",
       "        [-0.14026606],\n",
       "        [-0.97676957],\n",
       "        [-0.6172145 ],\n",
       "        [ 1.4195354 ],\n",
       "        [-0.0632472 ],\n",
       "        [-0.29195943]], dtype=float32),\n",
       " 'b3': array([[ -1.52940617e-03],\n",
       "        [ -7.41919270e-04],\n",
       "        [ -1.12773327e-03],\n",
       "        [ -7.57728238e-04],\n",
       "        [ -1.05562271e-03],\n",
       "        [ -8.41983652e-04],\n",
       "        [  4.17829651e-05],\n",
       "        [ -1.52982585e-03],\n",
       "        [ -2.52804137e-04],\n",
       "        [ -6.51385635e-04]], dtype=float32)}"
      ]
     },
     "execution_count": 32,
     "metadata": {},
     "output_type": "execute_result"
    }
   ],
   "source": [
    "parameters"
   ]
  },
  {
   "cell_type": "code",
   "execution_count": null,
   "metadata": {
    "collapsed": true
   },
   "outputs": [],
   "source": []
  }
 ],
 "metadata": {
  "kernelspec": {
   "display_name": "Python 3",
   "language": "python",
   "name": "python3"
  },
  "language_info": {
   "codemirror_mode": {
    "name": "ipython",
    "version": 3
   },
   "file_extension": ".py",
   "mimetype": "text/x-python",
   "name": "python",
   "nbconvert_exporter": "python",
   "pygments_lexer": "ipython3",
   "version": "3.6.0"
  }
 },
 "nbformat": 4,
 "nbformat_minor": 2
}
